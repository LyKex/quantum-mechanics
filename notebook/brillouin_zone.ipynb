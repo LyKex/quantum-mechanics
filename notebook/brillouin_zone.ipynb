{
 "cells": [
  {
   "cell_type": "markdown",
   "id": "conditional-elizabeth",
   "metadata": {},
   "source": [
    "# **Reciprocal space and Brillouin zone**"
   ]
  },
  {
   "cell_type": "markdown",
   "id": "strange-injury",
   "metadata": {},
   "source": [
    "<i class=\"fa fa-home fa-2x\"></i><a href=\"./index.ipynb\" style=\"font-size: 20px\"> Go back to index</a>\n",
    "\n",
    "**Source code:** https://github.com/osscar-org/quantum-mechanics/blob/develop/notebook/brillouin_zone.ipynb\n",
    "\n",
    "<hr style=\"height:1px;border:none;color:#cccccc;background-color:#cccccc;\" />"
   ]
  },
  {
   "cell_type": "markdown",
   "id": "infrared-calculation",
   "metadata": {},
   "source": [
    "## **Goals**\n",
    "\n",
    "<p style=\"text-align: justify;font-size:15px\">\n",
    "    The main goal of this noteook is demonstrating the bandstructures and density of states for\n",
    "    free-electron model in a periodic lattice.\n",
    "</p>\n",
    "\n",
    "<details close>\n",
    "    <summary style=\"font-size: 20px\"><b>Sub-goals</b></summary>\n",
    "    <ol style=\"text-align: justify;font-size:15px\">\n",
    "        <li> Understand the free-electron model. </li>\n",
    "        <li> Examine the electronic band structure for different cells. </li>\n",
    "        <li> Examine the density of states. </li>\n",
    "        <li> Describle how to calculate the density of states. </li>\n",
    "    </ol>\n",
    "\n",
    "</details>"
   ]
  },
  {
   "cell_type": "code",
   "execution_count": null,
   "id": "posted-injection",
   "metadata": {},
   "outputs": [],
   "source": [
    "from widget_bzvisualizer import BZVisualizer\n",
    "import numpy as np\n",
    "import seekpath\n",
    "import nglview as nv\n",
    "from ase.build import bulk, molecule\n",
    "from ipywidgets import HBox, VBox, Button, Output\n",
    "import ipywidgets as widgets\n",
    "import nglview as nv"
   ]
  },
  {
   "cell_type": "code",
   "execution_count": null,
   "id": "5bd45845-7969-4808-aba4-8f60f850f139",
   "metadata": {},
   "outputs": [],
   "source": [
    "bt_compute = Button(description=\"Compute\")\n",
    "\n",
    "mat = bulk('Cu', 'fcc', a=3.6)\n",
    "\n",
    "m = nv.NGLWidget(width='400px', height='400px')\n",
    "m.background='black'\n",
    "c1 = m.add_component(nv.ASEStructure(mat))\n",
    "m.clear()\n",
    "m.add_ball_and_stick()\n",
    "m.add_unitcell()\n",
    "\n",
    "elements = [];\n",
    "numbers = [];\n",
    "\n",
    "for i in mat:\n",
    "    elements.append(i.position.tolist())\n",
    "    numbers.append(1)\n",
    "    \n"
   ]
  },
  {
   "cell_type": "code",
   "execution_count": null,
   "id": "e813f33a-8d73-469f-8b9b-ec4e93763abc",
   "metadata": {},
   "outputs": [],
   "source": [
    "w = BZVisualizer(mat.cell.tolist(), elements, numbers, True, width='400px', height='400px')\n",
    "\n",
    "tab_contents = ['a', 'b', 'c']\n",
    "children = [widgets.Text(description=name) for name in tab_contents]\n",
    "tab = widgets.Tab()\n",
    "tab.children = children\n",
    "\n",
    "tab.set_title(0, 'a')\n",
    "tab.set_title(1, 'b')\n",
    "tab.set_title(2, 'c')\n",
    "\n",
    "def compute_BZ(c):\n",
    "    global c1\n",
    "    v1 = list(eval(tab.children[0].value))\n",
    "    v2 = list(eval(tab.children[1].value))\n",
    "    v3 = list(eval(tab.children[2].value))\n",
    "    \n",
    "    assert type(v1) == list\n",
    "    assert type(v2) == list\n",
    "    assert type(v3) == list\n",
    "    \n",
    "    mat.set_cell([v1, v2, v3])\n",
    "    m.remove_component(c1)\n",
    "    c1 = m.add_component(nv.ASEStructure(mat))\n",
    "    m.clear()\n",
    "    m.add_ball_and_stick()\n",
    "    m.add_unitcell()\n",
    "    w.cell = mat.cell.tolist()\n",
    "\n",
    "bt_compute.on_click(compute_BZ);"
   ]
  },
  {
   "cell_type": "code",
   "execution_count": null,
   "id": "4a445cc4-399d-4540-adc3-9e344621e91f",
   "metadata": {},
   "outputs": [],
   "source": [
    "display(HBox([m, w]), HBox([tab, bt_compute]))"
   ]
  },
  {
   "cell_type": "code",
   "execution_count": null,
   "id": "b5ee7e6b-36f2-49a8-ae6c-bbf10640034a",
   "metadata": {},
   "outputs": [],
   "source": []
  }
 ],
 "metadata": {
  "kernelspec": {
   "display_name": "Python 3",
   "language": "python",
   "name": "python3"
  },
  "language_info": {
   "codemirror_mode": {
    "name": "ipython",
    "version": 3
   },
   "file_extension": ".py",
   "mimetype": "text/x-python",
   "name": "python",
   "nbconvert_exporter": "python",
   "pygments_lexer": "ipython3",
   "version": "3.9.1"
  }
 },
 "nbformat": 4,
 "nbformat_minor": 5
}
