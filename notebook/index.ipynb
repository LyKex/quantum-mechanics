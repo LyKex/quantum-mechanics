{
 "cells": [
  {
   "cell_type": "markdown",
   "metadata": {},
   "source": [
    "# **Quantum Mechanics**\n",
    "\n",
    "<hr style=\"height:1px;border:none;color:#cccccc;background-color:#cccccc;\" />\n",
    "\n",
    "<ol style=\"font-size:18px\">\n",
    "    <li><a href=\"./1quantumwell_revision.ipynb\">Numerical Solution of the Schrödinger Equation for 1D Quantum Well</a></li>\n",
    "    <li><a href=\"./2quantumwells_revision.ipynb\">Numerical Solution of the Schrödinger Equation for Two 1D Quantum Wells</a></li>\n",
    "    <li><a href=\"./asymmetricwell_revision.ipynb\">Avoided Crossing in 1D Asymmetric Quantum Well</a></li>\n",
    "    <li><a href=\"./soft_intro.ipynb\">Numerical Solution of 1D Time Dependent Schrödinger Equation by Split Operator Fourier Transform (SOFT) Method</a></li>\n",
    "</ol>"
   ]
  },
  {
   "cell_type": "code",
   "execution_count": null,
   "metadata": {},
   "outputs": [],
   "source": []
  }
 ],
 "metadata": {
  "kernelspec": {
   "display_name": "Python 3",
   "language": "python",
   "name": "python3"
  },
  "language_info": {
   "codemirror_mode": {
    "name": "ipython",
    "version": 3
   },
   "file_extension": ".py",
   "mimetype": "text/x-python",
   "name": "python",
   "nbconvert_exporter": "python",
   "pygments_lexer": "ipython3",
   "version": "3.7.9"
  }
 },
 "nbformat": 4,
 "nbformat_minor": 4
}
