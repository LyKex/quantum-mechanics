{
 "cells": [
  {
   "cell_type": "markdown",
   "metadata": {},
   "source": [
    "# **Quantum Mechanics**\n",
    "\n",
    "<hr style=\"height:1px;border:none;color:#cccccc;background-color:#cccccc;\" />\n",
    "\n",
    "<ol style=\"font-size:18px\">\n",
    "    <li><a href=\"./1quantumwell.ipynb\">Numerical Solution of the Schrödinger Equation for 1D Quantum Well</a></li>\n",
    "    <li><a href=\"./2quantumwells.ipynb\">Numerical Solution of the Schrödinger Equation for Two 1D Quantum Wells</a></li>\n",
    "    <li><a href=\"./asymmetricwell.ipynb\">Avoided Crossing in 1D Asymmetric Quantum Well</a></li>\n",
    "    <li><a href=\"./shooting_method.ipynb\">Shooting Method with Numerov Algorithm to Solve the Time Independent Schrödinger Equation for 1D Quantum Well</a></li>\n",
    "    <li><a href=\"./soft_intro.ipynb\">Numerical Solution of 1D Time Dependent Schrödinger Equation by Split Operator Fourier Transform (SOFT) Method</a></li>\n",
    "    <li><a href=\"./ising_model.ipynb\">Ising Model in 2D</a></li>\n",
    "    <li><a href=\"./pseudopotential.ipynb\">Pseudopotential</a></li>\n",
    "</ol>"
   ]
  },
  {
   "cell_type": "code",
   "execution_count": null,
   "metadata": {},
   "outputs": [],
   "source": []
  }
 ],
 "metadata": {
  "kernelspec": {
   "display_name": "Python 3",
   "language": "python",
   "name": "python3"
  },
  "language_info": {
   "codemirror_mode": {
    "name": "ipython",
    "version": 3
   },
   "file_extension": ".py",
   "mimetype": "text/x-python",
   "name": "python",
   "nbconvert_exporter": "python",
   "pygments_lexer": "ipython3",
   "version": "3.9.1"
  }
 },
 "nbformat": 4,
 "nbformat_minor": 4
}
