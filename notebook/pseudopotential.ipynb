{
 "cells": [
  {
   "cell_type": "markdown",
   "metadata": {},
   "source": [
    "# **Pseudopotential**\n",
    "\n",
    "### [Go back to index](./index.ipynb)\n",
    "\n",
    "<hr style=\"height:1px;border:none;color:#cccccc;background-color:#cccccc;\" />\n",
    "\n",
    "<p style=\"text-align: justify;font-size:15px\">\n",
    "    This notebook presents how pseudopotentials are constructed. The pseudopotential \n",
    "    is an effective potential constructed to replace the complicated effects of the \n",
    "    core electrons.\n",
    "</p>"
   ]
  },
  {
   "cell_type": "code",
   "execution_count": 70,
   "metadata": {},
   "outputs": [],
   "source": [
    "from sympy.physics.hydrogen import R_nl, E_nl\n",
    "from sympy.abc import r\n",
    "from sympy.functions import exp\n",
    "import numpy as np\n",
    "from sympy import *\n",
    "import matplotlib.pyplot as plt\n",
    "from sympy.solvers.solveset import linsolve\n",
    "from ipywidgets import FloatSlider, Button\n",
    "from scipy.optimize import newton\n",
    "import matplotlib.gridspec as gridspec\n",
    "\n",
    "\n",
    "%matplotlib widget"
   ]
  },
  {
   "cell_type": "code",
   "execution_count": 71,
   "metadata": {},
   "outputs": [],
   "source": [
    "n = 4\n",
    "l = 1\n",
    "\n",
    "ho = R_nl(4, l, r, 1)\n",
    "Ea = E_nl(n, l)\n",
    "rf = lambdify(r, ho, \"numpy\")"
   ]
  },
  {
   "cell_type": "code",
   "execution_count": 72,
   "metadata": {},
   "outputs": [
    {
     "data": {
      "application/vnd.jupyter.widget-view+json": {
       "model_id": "11f4cf6138db4a36ac525419a158b718",
       "version_major": 2,
       "version_minor": 0
      },
      "text/plain": [
       "Canvas(toolbar=Toolbar(toolitems=[('Home', 'Reset original view', 'home', 'home'), ('Back', 'Back to previous …"
      ]
     },
     "metadata": {},
     "output_type": "display_data"
    },
    {
     "data": {
      "application/vnd.jupyter.widget-view+json": {
       "model_id": "480972c42daa4376abdf4cd0e8546634",
       "version_major": 2,
       "version_minor": 0
      },
      "text/plain": [
       "FloatSlider(value=30.0, description='Cutoff $R_c$ : ', layout=Layout(width='600px'), max=70.0)"
      ]
     },
     "metadata": {},
     "output_type": "display_data"
    }
   ],
   "source": [
    "s_rc = FloatSlider(value = 30.0, min = 0.0, max = 70, description = \"Cutoff $R_c$ : \", layout={'width':'600px'});\n",
    "compute = Button(description=\"Compute pseudopotential\");\n",
    "\n",
    "\n",
    "img = plt.figure(tight_layout=True, figsize=(8,7))\n",
    "img.canvas.header_visible = False\n",
    "\n",
    "gs = gridspec.GridSpec(2, 1)\n",
    "\n",
    "ax1 = img.add_subplot(gs[0, 0])\n",
    "ax2 = img.add_subplot(gs[1, 0])\n",
    "\n",
    "\n",
    "x1 = np.arange(0, 70.0, 0.01)\n",
    "y1 = rf(x1)*x1\n",
    "\n",
    "ax1.plot(x1, y1, 'r-', label=\"$\\Psi(r)r$\")\n",
    "ax1.fill_between(x1, y1, 0, where=x1<s_rc.value, facecolor='yellow', alpha=0.5)\n",
    "ax1.set_xlim([0, 70.0])\n",
    "\n",
    "ax1.hlines(0, 0, 70, 'k','--')\n",
    "\n",
    "line_rc1 = ax1.axvline(s_rc.value)\n",
    "line_pswf, = ax1.plot([],[],'b-', linewidth=1.5, label=\"$\\Psi^{PS}(r)r$\")\n",
    "ann_rc = ax1.annotate(\"$R_c$\", xy=(s_rc.value + 1.0, -0.1), fontsize=20)\n",
    "\n",
    "ax1.set_xlabel(\"r\", fontsize = 15)\n",
    "ax1.set_ylabel(\"$\\Psi(r)r$\", fontsize = 15)\n",
    "\n",
    "ax1.legend(fontsize=15)\n",
    "\n",
    "\n",
    "x2 = np.linspace(5.0, 70, 600);\n",
    "y2 = -1.0/x2;\n",
    "\n",
    "ax2.plot(x2, y2, 'r-', label=\"$-Z/r$\")\n",
    "\n",
    "ax2.set_xlim([0, 70.0])\n",
    "ax2.set_ylim([-0.10, 0.10])\n",
    "line_rc2 = ax2.axvline(s_rc.value)\n",
    "line_psv, = ax2.plot([],[], 'b-', linewidth=1.5, label=\"$V^{SP}(r)$\")\n",
    "ax2.hlines(0, 0, 70, 'k','--')\n",
    "\n",
    "ax2.set_xlabel(\"r\", fontsize = 15)\n",
    "ax2.set_ylabel(\"$V$\", fontsize = 15)\n",
    "\n",
    "ax2.legend(fontsize=15)\n",
    "\n",
    "plt.show()\n",
    "\n",
    "def on_rc_change(b):\n",
    "    line_rc1.set_data(s_rc.value, [-1, 1])\n",
    "    line_rc2.set_data(s_rc.value, [-1, 1])\n",
    "    ann_rc.set_position((s_rc.value + 1.0, -0.1))\n",
    "    ax1.collections.clear()\n",
    "    ax1.fill_between(x1, y1, 0, where=x1<s_rc.value, facecolor='yellow', alpha=0.5)\n",
    "    ax1.hlines(0, 0, 70, 'k','--')\n",
    "    \n",
    "    \n",
    "s_rc.observe(on_rc_change, names='value')\n",
    "\n",
    "display(s_rc)"
   ]
  },
  {
   "cell_type": "code",
   "execution_count": 73,
   "metadata": {},
   "outputs": [
    {
     "data": {
      "application/vnd.jupyter.widget-view+json": {
       "model_id": "2f770d983a64456d9ce28283b67f3be6",
       "version_major": 2,
       "version_minor": 0
      },
      "text/plain": [
       "Button(description='Compute pseudopotential', style=ButtonStyle())"
      ]
     },
     "metadata": {},
     "output_type": "display_data"
    }
   ],
   "source": [
    "def compute_right_derivative(rc):\n",
    "    k0 = rf(rc)\n",
    "    k1 = diff(ho, r).subs(r, rc).evalf()\n",
    "    k2 = diff(ho, r, 2).subs(r, rc).evalf()\n",
    "    return np.array([float(k0), float(k1), float(k2)])\n",
    "\n",
    "def compute_left_derivative(ps, rc):\n",
    "    psf = lambdify(r, ps, \"numpy\")\n",
    "    k0 = psf(rc)\n",
    "    k1 = diff(ps, r).subs(r, rc).evalf()\n",
    "    k2 = diff(ps, r, 2).subs(r, rc).evalf()\n",
    "    return np.array([float(k0), float(k1), float(k2)])\n",
    "    \n",
    "def solver_kernel(devs, rc, l, b):\n",
    "    A = np.zeros([3,4])\n",
    "    A[0, :] = np.array([1, rc**2, rc**3, rc**4]);\n",
    "    A[1, :] = np.array([0, 2*rc, 3*rc**2, 4*rc**3]);\n",
    "    A[2, :] = np.array([0, 2, 6*rc, 12*rc**2])\n",
    "    \n",
    "    B = np.zeros(3)\n",
    "    B[0] = log(devs[0]/rc**l);\n",
    "    B[1] = devs[1]/devs[0] - l/rc;\n",
    "    B[2] = devs[2]/devs[0] - devs[1]**2/devs[0]**2 + l/rc**2;\n",
    "    \n",
    "    B-=b*A[:, 1];\n",
    "    A = np.delete(A, (1), axis=1);\n",
    "    \n",
    "    coff = np.linalg.solve(A, B);\n",
    "    coff = np.insert(coff, 1, b)\n",
    "    \n",
    "    return coff\n",
    "\n",
    "def diff_norms(b, rc, l):\n",
    "    devs = compute_right_derivative(rc)\n",
    "    coff = solver_kernel(devs, rc, l, b)\n",
    "    \n",
    "    #norm1 = integrate(ho*ho*r*r, (r, 0, rc)).evalf()\n",
    "    \n",
    "    ps  = r**l*exp(coff[0] + coff[1]*r**2 + coff[2]*r**3 + coff[3]*r**4)\n",
    "    psf = lambdify(r, ps, \"numpy\")\n",
    "    psr = lambdify(r, ps*ps*r*r, \"numpy\")\n",
    "    hor = lambdify(r, ho*ho*r*r, \"numpy\")\n",
    "        \n",
    "    x1 = np.linspace(0, rc, 500);\n",
    "        \n",
    "    norm1 = np.sum(x1*hor(x1))*(x1[1]-x1[0])\n",
    "    norm2 = np.sum(x1*psr(x1))*(x1[1]-x1[0])\n",
    "    \n",
    "    return float(norm1 - norm2)\n",
    "\n",
    "def plot_ps_wavefunction(b, rc, l):\n",
    "    devs = compute_right_derivative(rc)\n",
    "    coff = solver_kernel(devs, rc, l, b)\n",
    "    \n",
    "    ps  = r**l*exp(coff[0] + coff[1]*r**2 + coff[2]*r**3 + coff[3]*r**4)\n",
    "    psf = lambdify(r, ps*r, \"numpy\")\n",
    "    \n",
    "    devl = compute_left_derivative(ps, rc)\n",
    "    \n",
    "    x1 = np.linspace(0, rc, 800);\n",
    "    line_pswf.set_data(x1, psf(x1));\n",
    "    ax1.fill_between(x1, psf(x1), 0, where=x1<s_rc.value, facecolor='green', alpha=0.5)\n",
    "\n",
    "def plot_ps_potential(b, rc, l):\n",
    "    devs = compute_right_derivative(rc)\n",
    "    coff = solver_kernel(devs, rc, l, b)\n",
    "    \n",
    "    pf  = r**l*exp(coff[0] + coff[1]*r**2 + coff[2]*r**3 + coff[3]*r**4)\n",
    "    psf = Ea - l*(l+1)/(2*r*r) + 1/(2*pf)*diff(pf, r, r)\n",
    "    psfn = lambdify(r, psf, \"numpy\")\n",
    "        \n",
    "    x1 = np.linspace(0.1, rc, 800);\n",
    "    line_psv.set_data(x1, psfn(x1));\n",
    "    \n",
    "\n",
    "def compute_pseudopotential(c):\n",
    "    b = newton(lambda x: diff_norms(x, s_rc.value, l), x0 = 0.0)\n",
    "    plot_ps_wavefunction(b, s_rc.value, l)\n",
    "    plot_ps_potential(b, s_rc.value, l)\n",
    "    \n",
    "compute.on_click(compute_pseudopotential)\n",
    "\n",
    "display(compute)"
   ]
  },
  {
   "cell_type": "code",
   "execution_count": null,
   "metadata": {},
   "outputs": [],
   "source": []
  }
 ],
 "metadata": {
  "kernelspec": {
   "display_name": "Python 3",
   "language": "python",
   "name": "python3"
  },
  "language_info": {
   "codemirror_mode": {
    "name": "ipython",
    "version": 3
   },
   "file_extension": ".py",
   "mimetype": "text/x-python",
   "name": "python",
   "nbconvert_exporter": "python",
   "pygments_lexer": "ipython3",
   "version": "3.7.8"
  }
 },
 "nbformat": 4,
 "nbformat_minor": 4
}
