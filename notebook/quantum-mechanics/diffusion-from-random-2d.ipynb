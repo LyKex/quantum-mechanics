{
 "cells": [
  {
   "cell_type": "code",
   "execution_count": 12,
   "metadata": {},
   "outputs": [],
   "source": [
    "import numpy as np\n",
    "import matplotlib.pyplot as plt\n",
    "import matplotlib as mpl\n",
    "import ipywidgets as ipw\n",
    "%matplotlib widget\n",
    "plt.rcParams['figure.autolayout'] = 'True' # turn on tight layout globally"
   ]
  },
  {
   "cell_type": "code",
   "execution_count": 13,
   "metadata": {},
   "outputs": [],
   "source": [
    "N = 1000\n",
    "box_xrange = (-10, 10)\n",
    "box_yrange = (-10, 10)\n",
    "starting_radius = 0.1\n",
    "num_steps = 10000"
   ]
  },
  {
   "cell_type": "code",
   "execution_count": 14,
   "metadata": {},
   "outputs": [],
   "source": [
    "func_drpdwn = ipw.Dropdown(options=['Continuous', 'Discrete'], value='Discrete', description='Random walk type', disabled=False) # continuous or discrete step\n",
    "n_slider = ipw.IntSlider(value=5000, min=1, max=10000, step=100, description='Number of points') # number of points\n",
    "max_slider = ipw.FloatSlider(value=0.02, min=0.01, max=0.1, step=0.01,description='Max step size', continuous_update=False, readout=True, readout_format='.2f') # max step size\n",
    "frame_slider = ipw.IntSlider(value=0, min=0, max=num_steps, step=100, description='Frame index', continuous_update=False, readout=True, disabled=True) # manual control for now, may change to autoplay if it is fast enough\n",
    "\n",
    "traj_chkbox = ipw.Checkbox(value=False,description='Show trajectory', disabled=False, indent=False)\n",
    "map_chkbox = ipw.Checkbox(value=False,description='Show density map', disabled=False, indent=False)\n",
    "\n",
    "run_btn = ipw.Button(description='Run')\n",
    "play = ipw.Play(value=0, min=0, max=num_steps, step=100, disabled=True)"
   ]
  },
  {
   "cell_type": "code",
   "execution_count": 15,
   "metadata": {},
   "outputs": [],
   "source": [
    "# # Run simulations\n",
    "# import tqdm\n",
    "# num_steps = 10000\n",
    "# random_step=0.1\n",
    "\n",
    "# trajectory = [coords]\n",
    "# for i in tqdm.tqdm(range(num_steps)):\n",
    "#     random_displacement = (np.random.random((N, 2)) - 0.5)*2 * random_step\n",
    "#     new_positions = trajectory[-1] + random_displacement\n",
    "#     # Some points might have gone beyond the box.\n",
    "#     # I could either reflect them back as a hard wall, or just use PBC. For simplicity, I use PBC\n",
    "#     new_positions[:,0] = (new_positions[:,0] - box_xrange[0]) % (box_xrange[1] - box_xrange[0]) + box_xrange[0]\n",
    "#     new_positions[:,1] = (new_positions[:,1] - box_yrange[0]) % (box_yrange[1] - box_yrange[0]) + box_yrange[0]    \n",
    "#     trajectory.append(new_positions)\n",
    "\n",
    "# trajectory = np.array(trajectory)"
   ]
  },
  {
   "cell_type": "code",
   "execution_count": 16,
   "metadata": {},
   "outputs": [],
   "source": [
    "# import ipywidgets as ipw\n",
    "\n",
    "# fig = plt.figure(figsize=(7,6))\n",
    "# @ipw.interact(\n",
    "#     frame_idx=ipw.IntSlider(description='Frame', min=0, max=num_steps-1, value=0, continuous_update=False)\n",
    "# )\n",
    "# def plot(frame_idx):\n",
    "#     frame_coords = trajectory[frame_idx]\n",
    "#     plt.plot(frame_coords[:,0], frame_coords[:,1], '.')\n",
    "    \n",
    "#     std_radius = np.array(frame_coords).std(axis=0).mean()\n",
    "#     circle = plt.Circle((0, 0), 2*std_radius, color='b', fill=False)\n",
    "#     ax1.add_patch(circle)\n",
    "    \n",
    "\n",
    "#     ax1.set_aspect(1.)\n",
    "\n",
    "#     x_coords = trajectory[frame_idx,:,0]\n",
    "#     y_coords = trajectory[frame_idx,:,1]\n",
    "#     H, x_edges, y_edges = np.histogram2d(x_coords, y_coords, bins=10, range= [[box_xrange[0], box_xrange[1]], [box_yrange[0], box_yrange[1]]], density=False) # compute histogram\n",
    "#     H = H.T\n",
    "#     ax2 = fig.add_subplot(1,3,2, sharex=ax1, sharey=ax1)\n",
    "#     plt.imshow(H, origin='lower', interpolation='nearest', extent=[x_edges[0], x_edges[-1], y_edges[0], y_edges[-1]])\n",
    "    \n",
    "#     ax3 = fig.add_subplot(1,3,3, sharex=ax1, sharey=ax1, aspect='equal', xlim=x_edges[[0,-1]], ylim=y_edges[[0,-1]])\n",
    "# #     im = mpl.image.NonUniformImage(ax, interpolation='bilinear')\n",
    "# #     x_centers = (x_edges[:-1] + x_edges[1:]) / 2\n",
    "# #     y_centers = (y_edges[:-1] + y_edges[1:]) / 2\n",
    "# #     im.set_data(x_centers, y_centers, H)\n",
    "#     plt.imshow(H, origin='lower', interpolation='bicubic', extent=[x_edges[0], x_edges[-1], y_edges[0], y_edges[-1]])\n",
    "#     ax1.set_xlim(box_xrange)\n",
    "#     ax1.set_ylim(box_yrange)\n",
    "#     plt.show()\n",
    "    \n",
    "    \n",
    "    "
   ]
  },
  {
   "cell_type": "code",
   "execution_count": 28,
   "metadata": {},
   "outputs": [
    {
     "data": {
      "application/vnd.jupyter.widget-view+json": {
       "model_id": "d6c95c0abf0b4d3fa12b16d909ce65e0",
       "version_major": 2,
       "version_minor": 0
      },
      "text/plain": [
       "Canvas(toolbar=Toolbar(toolitems=[('Home', 'Reset original view', 'home', 'home'), ('Back', 'Back to previous …"
      ]
     },
     "metadata": {},
     "output_type": "display_data"
    },
    {
     "data": {
      "application/vnd.jupyter.widget-view+json": {
       "model_id": "db72e66f99aa4684b31fee8b2ae6a62c",
       "version_major": 2,
       "version_minor": 0
      },
      "text/plain": [
       "VBox(children=(Dropdown(description='Random walk type', index=1, options=('Continuous', 'Discrete'), value='Di…"
      ]
     },
     "metadata": {},
     "output_type": "display_data"
    },
    {
     "data": {
      "application/vnd.jupyter.widget-view+json": {
       "model_id": "a13c9c9672ec4da2804bacfff492edfe",
       "version_major": 2,
       "version_minor": 0
      },
      "text/plain": [
       "HBox(children=(Button(description='Run', style=ButtonStyle()), Play(value=0, max=10000, step=100)))"
      ]
     },
     "metadata": {},
     "output_type": "display_data"
    }
   ],
   "source": [
    "# define layout by gridspec\n",
    "fig = plt.figure(constrained_layout=True, figsize=(7, 6))\n",
    "gs = fig.add_gridspec(3,3)\n",
    "ax1 = fig.add_subplot(gs[0:2,0:2])\n",
    "# ax2 = fig.add_subplot(gs[0:2,2:])\n",
    "# # ax3 = fig.add_subplot(gs[-1,0:2])\n",
    "# ax3 = fig.add_subplot(gs[-1,-1])\n",
    "\n",
    "\n",
    "trajectory =[] # trajectory of all dots\n",
    "\n",
    "def plot_dots_circle(frame_idx, show_traj):\n",
    "    radius_factor = 2\n",
    "    frame_coords = trajectory[frame_idx]\n",
    "    ax1.clear()\n",
    "    ax1.set_xlim(box_xrange)\n",
    "    ax1.set_ylim(box_yrange)\n",
    "#     ax.set_aspect(1.)\n",
    "\n",
    "    \n",
    "    if show_traj:\n",
    "        # show the path of the first particle up to current frame\n",
    "        ax1.plot(frame_coords[:,0], frame_coords[:,1], '.', alpha=0.5, zorder=1)\n",
    "        ax1.plot(trajectory[:frame_idx,0,0], trajectory[:frame_idx,0,1],linewidth=1, color='r', zorder=2, label='path')\n",
    "    else:\n",
    "        ax1.plot(frame_coords[:,0], frame_coords[:,1], '.',zorder=1)\n",
    "    std_radius = np.array(frame_coords).std(axis=0).mean()\n",
    "    circle = plt.Circle((0, 0), radius_factor*std_radius, color='k', fill=False, linestyle='dashed',zorder=3, label='mean radius')\n",
    "    ax1.add_patch(circle)\n",
    "    ax1.legend()\n",
    "\n",
    "def plot_histogram(frame_idx, is_continuous=False,):\n",
    "    ax1.clear()\n",
    "    x_coords = trajectory[frame_idx,:,0]\n",
    "    y_coords = trajectory[frame_idx,:,1]\n",
    "    H, x_edges, y_edges = np.histogram2d(x_coords, y_coords, bins=10, range= [[box_xrange[0], box_xrange[1]], [box_yrange[0], box_yrange[1]]], density=False) # compute histogram\n",
    "    H = H.T\n",
    "    if not is_continuous:\n",
    "        ax1.imshow(H, origin='lower', interpolation='nearest', extent=[x_edges[0], x_edges[-1], y_edges[0], y_edges[-1]])\n",
    "    else:\n",
    "        ax1.imshow(H, origin='lower', interpolation='bicubic', extent=[x_edges[0], x_edges[-1], y_edges[0], y_edges[-1]])\n",
    "#         im = mpl.image.NonUniformImage(ax, interpolation='bilinear')\n",
    "#         x_centers = (x_edges[:-1] + x_edges[1:]) / 2\n",
    "#         y_centers = (y_edges[:-1] + y_edges[1:]) / 2\n",
    "#         im.set_data(x_centers, y_centers, H)\n",
    "    ax1.set_xlim(x_edges[[0,-1]])\n",
    "    ax1.set_ylim(y_edges[[0,-1]])\n",
    "\n",
    "def run(change):\n",
    "    '''handle widget event and plot'''\n",
    "    global trajectory\n",
    "    # initial coords\n",
    "    random_step = max_slider.value # max stepsize\n",
    "    coords = (np.random.random((10*N, 2)) - 0.5)*2 * random_step # Between -starting_radius and starting_radius\n",
    "    coords = coords[(coords**2).sum(axis=1) < random_step**2][:N] # taking points in the circle \n",
    "\n",
    "    assert len(coords) == N # check if all points are in the circle ??why??\n",
    "\n",
    "    # run simulation and store trajectory \n",
    "    trajectory = [coords]\n",
    "    for i in range(num_steps):\n",
    "        random_displacement = (np.random.random((N, 2)) - 0.5) * 2 * random_step\n",
    "        new_positions = trajectory[-1] + random_displacement\n",
    "        # Some points might have gone beyond the box.\n",
    "        # I could either reflect them back as a hard wall, or just use PBC. For simplicity, I use PBC\n",
    "        new_positions[:,0] = (new_positions[:,0] - box_xrange[0]) % (box_xrange[1] - box_xrange[0]) + box_xrange[0]\n",
    "        new_positions[:,1] = (new_positions[:,1] - box_yrange[0]) % (box_yrange[1] - box_yrange[0]) + box_yrange[0]    \n",
    "        trajectory.append(new_positions)\n",
    "    trajectory = np.array(trajectory)\n",
    "    play.disabled=False # enable play button after the simulation run\n",
    "\n",
    "def plot_frame(change):\n",
    "    # plot current frame\n",
    "    frame_idx = frame_slider.value\n",
    "    if map_chkbox.value:\n",
    "        plot_histogram(frame_idx=frame_idx, is_continuous=True)\n",
    "    else:\n",
    "        plot_dots_circle(frame_idx=frame_idx, show_traj=traj_chkbox.value)\n",
    "\n",
    "def stop(change):\n",
    "    play.disabled = True\n",
    "    frame_slider.value = 0\n",
    "\n",
    "# link frame slider with play button\n",
    "ipw.jslink((play, 'value'), (frame_slider, 'value'))\n",
    "frame_slider.observe(plot_frame, names='value', type='change')\n",
    "# click run for simmulation and collect trajectory\n",
    "run_btn.on_click(run)\n",
    "\n",
    "# change simulation parameters will disable play and frame slider until finish run\n",
    "n_slider.observe(stop, names='value', type='change')\n",
    "max_slider.observe(stop, names='value', type='change')\n",
    "func_drpdwn.observe(stop, names='value', type='change')\n",
    "traj_chkbox.observe(stop, names='value', type='change')\n",
    "map_chkbox.observe(stop,names='vale', type='change')\n",
    "\n",
    "### how to layout plot and widgets together?\n",
    "display(ipw.VBox([func_drpdwn, n_slider, max_slider, frame_slider, traj_chkbox, map_chkbox]))\n",
    "display(ipw.HBox([run_btn, play]))"
   ]
  },
  {
   "cell_type": "code",
   "execution_count": null,
   "metadata": {},
   "outputs": [],
   "source": []
  },
  {
   "cell_type": "code",
   "execution_count": 18,
   "metadata": {},
   "outputs": [
    {
     "ename": "NameError",
     "evalue": "name 'pl' is not defined",
     "output_type": "error",
     "traceback": [
      "\u001b[0;31m---------------------------------------------------------------------------\u001b[0m",
      "\u001b[0;31mNameError\u001b[0m                                 Traceback (most recent call last)",
      "\u001b[0;32m/tmp/ipykernel_2056/2501283390.py\u001b[0m in \u001b[0;36m<module>\u001b[0;34m\u001b[0m\n\u001b[1;32m      5\u001b[0m \u001b[0mnum_video_frames\u001b[0m \u001b[0;34m=\u001b[0m \u001b[0mint\u001b[0m\u001b[0;34m(\u001b[0m\u001b[0mfps\u001b[0m\u001b[0;34m*\u001b[0m\u001b[0mvideo_length_seconds\u001b[0m\u001b[0;34m)\u001b[0m\u001b[0;34m\u001b[0m\u001b[0;34m\u001b[0m\u001b[0m\n\u001b[1;32m      6\u001b[0m \u001b[0;34m\u001b[0m\u001b[0m\n\u001b[0;32m----> 7\u001b[0;31m \u001b[0mfig_movie\u001b[0m \u001b[0;34m=\u001b[0m \u001b[0mpl\u001b[0m\u001b[0;34m.\u001b[0m\u001b[0mfigure\u001b[0m\u001b[0;34m(\u001b[0m\u001b[0mfigsize\u001b[0m\u001b[0;34m=\u001b[0m\u001b[0;34m(\u001b[0m\u001b[0;36m10\u001b[0m\u001b[0;34m,\u001b[0m\u001b[0;36m10\u001b[0m\u001b[0;34m)\u001b[0m\u001b[0;34m)\u001b[0m\u001b[0;34m\u001b[0m\u001b[0;34m\u001b[0m\u001b[0m\n\u001b[0m\u001b[1;32m      8\u001b[0m \u001b[0max\u001b[0m \u001b[0;34m=\u001b[0m \u001b[0mpl\u001b[0m\u001b[0;34m.\u001b[0m\u001b[0msubplot\u001b[0m\u001b[0;34m(\u001b[0m\u001b[0;36m1\u001b[0m\u001b[0;34m,\u001b[0m\u001b[0;36m1\u001b[0m\u001b[0;34m,\u001b[0m\u001b[0;36m1\u001b[0m\u001b[0;34m)\u001b[0m\u001b[0;34m\u001b[0m\u001b[0;34m\u001b[0m\u001b[0m\n\u001b[1;32m      9\u001b[0m \u001b[0mpoints_plot\u001b[0m \u001b[0;34m=\u001b[0m \u001b[0mpl\u001b[0m\u001b[0;34m.\u001b[0m\u001b[0mplot\u001b[0m\u001b[0;34m(\u001b[0m\u001b[0mtrajectory\u001b[0m\u001b[0;34m[\u001b[0m\u001b[0;36m0\u001b[0m\u001b[0;34m]\u001b[0m\u001b[0;34m[\u001b[0m\u001b[0;34m:\u001b[0m\u001b[0;34m,\u001b[0m\u001b[0;36m0\u001b[0m\u001b[0;34m]\u001b[0m\u001b[0;34m,\u001b[0m \u001b[0mtrajectory\u001b[0m\u001b[0;34m[\u001b[0m\u001b[0;36m0\u001b[0m\u001b[0;34m]\u001b[0m\u001b[0;34m[\u001b[0m\u001b[0;34m:\u001b[0m\u001b[0;34m,\u001b[0m\u001b[0;36m1\u001b[0m\u001b[0;34m]\u001b[0m\u001b[0;34m,\u001b[0m \u001b[0;34m'.'\u001b[0m\u001b[0;34m)\u001b[0m\u001b[0;34m\u001b[0m\u001b[0;34m\u001b[0m\u001b[0m\n",
      "\u001b[0;31mNameError\u001b[0m: name 'pl' is not defined"
     ]
    }
   ],
   "source": [
    "from matplotlib import animation\n",
    "\n",
    "fps = 25\n",
    "video_length_seconds = 10.\n",
    "num_video_frames = int(fps*video_length_seconds)\n",
    "\n",
    "fig_movie = pl.figure(figsize=(10,10))\n",
    "ax = pl.subplot(1,1,1)\n",
    "points_plot = pl.plot(trajectory[0][:,0], trajectory[0][:,1], '.')\n",
    "circle = pl.Circle((0, 0), 0., color='b', fill=False)\n",
    "ax.add_patch(circle)\n",
    "pl.xlim(box_xrange)\n",
    "pl.ylim(box_yrange)\n",
    "ax.set_aspect(1.)\n",
    "\n",
    "def update_frame(frame_idx):\n",
    "    global trajectory, points_plot, num_video_frames, num_steps, circle\n",
    "    \n",
    "    trajectory_idx = frame_idx * (num_steps // num_video_frames)    \n",
    "    frame_coords = trajectory[trajectory_idx]\n",
    "    points_plot[0].set_data(frame_coords.T)\n",
    "\n",
    "    std_radius = np.array(frame_coords).std(axis=0).mean()\n",
    "    circle.set_radius(2*std_radius)\n",
    "    \n",
    "    return points_plot[0], circle\n",
    "\n",
    "line_ani = animation.FuncAnimation(fig_movie, update_frame, frames=num_video_frames, blit=True)\n",
    "line_ani.save('diffusion.mp4', fps=fps)"
   ]
  },
  {
   "cell_type": "code",
   "execution_count": null,
   "metadata": {},
   "outputs": [],
   "source": []
  },
  {
   "cell_type": "code",
   "execution_count": null,
   "metadata": {
    "scrolled": true
   },
   "outputs": [],
   "source": [
    "pl.figure()\n",
    "\n",
    "for frame_idx in [0, 1000, 2000, 3000, 4000, 5000, 6000, 7000, 8000, 9000, 9999]:\n",
    "    frame_coords = trajectory[frame_idx]\n",
    "    radii = np.sqrt((frame_coords**2).sum(axis=1))\n",
    "    hist_data, hist_x = np.histogram(radii, bins=30)\n",
    "    hist_coords = np.concatenate([np.array(list(zip(hist_x[:-1], hist_data))), np.array(list(zip(hist_x[1:], hist_data)))])\n",
    "    hist_coords = hist_coords[hist_coords[:, 0].argsort(), :]\n",
    "    pl.plot(hist_coords[:, 0], hist_coords[:, 1])\n",
    "pl.xlim(0, 10)\n",
    "pl.xlabel(\"distance from centre\")\n",
    "pl.ylabel(\"frequency\")\n",
    "pl.show()"
   ]
  },
  {
   "cell_type": "code",
   "execution_count": null,
   "metadata": {},
   "outputs": [],
   "source": [
    "times = []\n",
    "std_radius = []\n",
    "\n",
    "pl.figure(figsize=(10,7))\n",
    "\n",
    "# Do std-deviation for both x and y coords, at each timestep (axis=1 means on all points for that step)\n",
    "# then do mean on second axis, meaning (x_std + y_std)/2 at each timestep\n",
    "std_radius = np.array(trajectory).std(axis=1).mean(axis=1)\n",
    "# TWICE the radius (to match the video)\n",
    "pl.plot(2*std_radius)\n",
    "\n",
    "## SLOWER VERSION\n",
    "#for frame_idx, frame_coords in enumerate(tqdm.tqdm(trajectory)):\n",
    "#    x_std = frame_coords[:, 0].std()\n",
    "#    y_std = frame_coords[:, 1].std()\n",
    "#    std = (x_std + y_std)/2.\n",
    "#    times.append(frame_idx)\n",
    "#    std_radius.append(std)\n",
    "#pl.plot(times, std_radius)\n",
    "\n",
    "pl.xlabel('time')\n",
    "pl.ylabel('average radius')\n",
    "pl.show()"
   ]
  },
  {
   "cell_type": "code",
   "execution_count": null,
   "metadata": {},
   "outputs": [],
   "source": [
    "times = []\n",
    "std_radius = []\n",
    "\n",
    "pl.figure(figsize=(10,7))\n",
    "\n",
    "# Do std-deviation for both x and y coords, at each timestep (axis=1 means on all points for that step)\n",
    "# then do mean on second axis, meaning (x_std + y_std)/2 at each timestep\n",
    "delta_r2 = ((np.array(trajectory) - np.array(trajectory[0]))**2).sum(axis=(1,2))\n",
    "# TWICE the radius (to match the video)\n",
    "pl.plot(delta_r2)\n",
    "\n",
    "## SLOWER VERSION\n",
    "#for frame_idx, frame_coords in enumerate(tqdm.tqdm(trajectory)):\n",
    "#    x_std = frame_coords[:, 0].std()\n",
    "#    y_std = frame_coords[:, 1].std()\n",
    "#    std = (x_std + y_std)/2.\n",
    "#    times.append(frame_idx)\n",
    "#    std_radius.append(std)\n",
    "#pl.plot(times, std_radius)\n",
    "\n",
    "pl.xlabel('time')\n",
    "pl.ylabel(r'$\\langle \\Delta r^2\\rangle$')\n",
    "pl.show()\n"
   ]
  },
  {
   "cell_type": "code",
   "execution_count": null,
   "metadata": {},
   "outputs": [],
   "source": [
    "test_play = ipw.Play(value=0, min=0, max=10, step=1, disabled=True)\n",
    "test_slider = ipw.IntSlider(value=0, min=0, max=10, step=1, disabled=True)\n",
    "ipw.jslink((test_play, 'value'), (test_slider, 'value'))\n",
    "test_chkbox = ipw.Checkbox(value=False, description='enable play')\n",
    "display(ipw.VBox([test_play, test_slider,test_chkbox]))\n",
    "def enable(change):\n",
    "    if test_chkbox.value:\n",
    "        test_play.disabled=False\n",
    "        test_slider.disabled=False\n",
    "    else:\n",
    "        test_play.disabled=True\n",
    "        test_slider.value=0\n",
    "        test_slider.disabled=True\n",
    "\n",
    "plot_f(None)\n",
    "test_chkbox.observe(enable, names='value', type='change')"
   ]
  }
 ],
 "metadata": {
  "interpreter": {
   "hash": "bc40149a43d56842f1cb494dbc97517747f273b17f908d7811c2c9450f58811a"
  },
  "kernelspec": {
   "display_name": "Python 3 (ipykernel)",
   "language": "python",
   "name": "python3"
  },
  "language_info": {
   "codemirror_mode": {
    "name": "ipython",
    "version": 3
   },
   "file_extension": ".py",
   "mimetype": "text/x-python",
   "name": "python",
   "nbconvert_exporter": "python",
   "pygments_lexer": "ipython3",
   "version": "3.8.10"
  }
 },
 "nbformat": 4,
 "nbformat_minor": 4
}
