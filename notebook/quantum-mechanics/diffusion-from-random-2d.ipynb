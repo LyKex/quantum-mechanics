{
 "cells": [
  {
   "cell_type": "markdown",
   "metadata": {},
   "source": [
    "# **Random Diffusion in 2D**\n",
    "\n",
    "<i class=\"fa fa-home fa-2x\"></i><a href=\"../index.ipynb\" style=\"font-size: 20px\"> Go back to index</a>\n",
    "\n",
    "**Source code:** https://github.com/osscar-org/quantum-mechanics/blob/develop/notebook/quantum-mechanics/diffusion-from-random-2d.ipynb\n",
    "\n",
    "<hr style=\"height:1px;border:none;color:#cccccc;background-color:#cccccc;\" />"
   ]
  },
  {
   "cell_type": "markdown",
   "metadata": {},
   "source": [
    "## Goals\n",
    "\n",
    "* Understand\n",
    "    * asd"
   ]
  },
  {
   "cell_type": "markdown",
   "metadata": {},
   "source": [
    "## Background theory"
   ]
  },
  {
   "cell_type": "markdown",
   "metadata": {},
   "source": [
    "<details close>\n",
    "<summary style=\"font-size: 20px\"><b>Random walk</b></summary>\n",
    "asdasd\n",
    "  \n",
    "<div class=\"container\" style=\"text-align: center; width: 250px;\">\n",
    "  <img src=\"images/Ising_NN.svg\" alt=\"Nearest neighbours for a spin in a 2D lattice\" class=\"image\">\n",
    "  <div class=\"overlay\">In 2D, the gray spin has 4 nearest neighbours</div>\n",
    "</div>\n",
    "\n",
    "asd\n",
    "</details>"
   ]
  },
  {
   "cell_type": "markdown",
   "metadata": {},
   "source": [
    "## **Tasks and exercises**\n",
    "\n",
    "1. Run the simulation with the default parameters (and $J>0$) and check the plot of the magnetization per spin as a function of the simulation step. What happens at very low temperatures? And at intermediate temperatures? And at very high temperatures? And what happens for $J<0$?\n",
    "\n",
    "    <details>\n",
    "    <summary><b>Hints</b></summary>\n",
    "  For a positive $J$ value, parallel neighboring spins are energetically favoured.\n",
    "  Therefore, at $T=0$ we expect all spins to be aligned: the system is ferromagnetic.\n",
    "  At low temperature, spin will still tend to be aligned with their neihbors, with some\n",
    "  local fluctuations as temperature increases.\n",
    "  Fluctuations become very large close to $T_c$, and above $T_c$\n",
    "  they become predominant and, on average, we obtain zero net magnetization.<br>\n",
    "\n",
    "  On the opposite, $J<0$ will lead to a checkerboard pattern for the final spin \n",
    "  configuration at low temperatures, i.e., an antiferromagnetic configuration.<br>\n",
    "    \n",
    "  When $J=0$, there is no interaction between spins and we always obtain a random spin configuration.<br><br>\n",
    "    </details>"
   ]
  },
  {
   "cell_type": "code",
   "execution_count": 38,
   "metadata": {},
   "outputs": [],
   "source": [
    "import numpy as np\n",
    "import matplotlib.pyplot as plt\n",
    "import matplotlib as mpl\n",
    "import ipywidgets as ipw\n",
    "%matplotlib widget\n",
    "plt.rcParams['figure.autolayout'] = 'True' # turn on tight layout globally"
   ]
  },
  {
   "cell_type": "code",
   "execution_count": 39,
   "metadata": {},
   "outputs": [],
   "source": [
    "N = 1000\n",
    "box_xrange = (-10, 10)\n",
    "box_yrange = (-10, 10)\n",
    "starting_radius = 0.1\n",
    "num_steps = 10000"
   ]
  },
  {
   "cell_type": "code",
   "execution_count": 40,
   "metadata": {},
   "outputs": [],
   "source": [
    "func_drpdwn = ipw.Dropdown(options=['Continuous', 'Discrete'], value='Discrete', description='Random walk type', disabled=False) # continuous or discrete step\n",
    "n_slider = ipw.IntSlider(value=5000, min=1, max=10000, step=100, description='Number of points') # number of points\n",
    "max_slider = ipw.FloatSlider(value=0.02, min=0.01, max=0.1, step=0.01,description='Max step size', continuous_update=False, readout=True, readout_format='.2f') # max step size\n",
    "frame_slider = ipw.IntSlider(value=0, min=0, max=num_steps, step=100, description='Frame index', continuous_update=False, readout=True, disabled=True) # manual control for now, may change to autoplay if it is fast enough\n",
    "steps_slider = ipw.IntSlider(value=10000, min=100, max=20000, step=100, description='Number of steps', continuous_update=False, disabled=False, layout={})\n",
    "\n",
    "traj_chkbox = ipw.Checkbox(value=False,description='Show trajectory', disabled=False, indent=False)\n",
    "map_chkbox = ipw.Checkbox(value=False,description='Show density map', disabled=False, indent=False)\n",
    "\n",
    "run_btn = ipw.Button(description='Run')\n",
    "play = ipw.Play(value=0, min=0, max=num_steps, step=100, disabled=True, interval=500) # iterate frame with 500ms interval"
   ]
  },
  {
   "cell_type": "code",
   "execution_count": 41,
   "metadata": {},
   "outputs": [],
   "source": [
    "# # Run simulations\n",
    "# import tqdm\n",
    "# num_steps = 10000\n",
    "# random_step=0.1\n",
    "\n",
    "# trajectory = [coords]\n",
    "# for i in tqdm.tqdm(range(num_steps)):\n",
    "#     random_displacement = (np.random.random((N, 2)) - 0.5)*2 * random_step\n",
    "#     new_positions = trajectory[-1] + random_displacement\n",
    "#     # Some points might have gone beyond the box.\n",
    "#     # I could either reflect them back as a hard wall, or just use PBC. For simplicity, I use PBC\n",
    "#     new_positions[:,0] = (new_positions[:,0] - box_xrange[0]) % (box_xrange[1] - box_xrange[0]) + box_xrange[0]\n",
    "#     new_positions[:,1] = (new_positions[:,1] - box_yrange[0]) % (box_yrange[1] - box_yrange[0]) + box_yrange[0]    \n",
    "#     trajectory.append(new_positions)\n",
    "\n",
    "# trajectory = np.array(trajectory)"
   ]
  },
  {
   "cell_type": "code",
   "execution_count": 42,
   "metadata": {},
   "outputs": [],
   "source": [
    "# import ipywidgets as ipw\n",
    "\n",
    "# fig = plt.figure(figsize=(7,6))\n",
    "# @ipw.interact(\n",
    "#     frame_idx=ipw.IntSlider(description='Frame', min=0, max=num_steps-1, value=0, continuous_update=False)\n",
    "# )\n",
    "# def plot(frame_idx):\n",
    "#     frame_coords = trajectory[frame_idx]\n",
    "#     plt.plot(frame_coords[:,0], frame_coords[:,1], '.')\n",
    "    \n",
    "#     std_radius = np.array(frame_coords).std(axis=0).mean()\n",
    "#     circle = plt.Circle((0, 0), 2*std_radius, color='b', fill=False)\n",
    "#     ax1.add_patch(circle)\n",
    "    \n",
    "\n",
    "#     ax1.set_aspect(1.)\n",
    "\n",
    "#     x_coords = trajectory[frame_idx,:,0]\n",
    "#     y_coords = trajectory[frame_idx,:,1]\n",
    "#     H, x_edges, y_edges = np.histogram2d(x_coords, y_coords, bins=10, range= [[box_xrange[0], box_xrange[1]], [box_yrange[0], box_yrange[1]]], density=False) # compute histogram\n",
    "#     H = H.T\n",
    "#     ax2 = fig.add_subplot(1,3,2, sharex=ax1, sharey=ax1)\n",
    "#     plt.imshow(H, origin='lower', interpolation='nearest', extent=[x_edges[0], x_edges[-1], y_edges[0], y_edges[-1]])\n",
    "    \n",
    "#     ax3 = fig.add_subplot(1,3,3, sharex=ax1, sharey=ax1, aspect='equal', xlim=x_edges[[0,-1]], ylim=y_edges[[0,-1]])\n",
    "# #     im = mpl.image.NonUniformImage(ax, interpolation='bilinear')\n",
    "# #     x_centers = (x_edges[:-1] + x_edges[1:]) / 2\n",
    "# #     y_centers = (y_edges[:-1] + y_edges[1:]) / 2\n",
    "# #     im.set_data(x_centers, y_centers, H)\n",
    "#     plt.imshow(H, origin='lower', interpolation='bicubic', extent=[x_edges[0], x_edges[-1], y_edges[0], y_edges[-1]])\n",
    "#     ax1.set_xlim(box_xrange)\n",
    "#     ax1.set_ylim(box_yrange)\n",
    "#     plt.show()\n",
    "    \n",
    "    \n",
    "    "
   ]
  },
  {
   "cell_type": "code",
   "execution_count": 43,
   "metadata": {},
   "outputs": [
    {
     "data": {
      "application/vnd.jupyter.widget-view+json": {
       "model_id": "17a75544545c49bebd6b625e3868380d",
       "version_major": 2,
       "version_minor": 0
      },
      "text/plain": [
       "Canvas(toolbar=Toolbar(toolitems=[('Home', 'Reset original view', 'home', 'home'), ('Back', 'Back to previous …"
      ]
     },
     "metadata": {},
     "output_type": "display_data"
    },
    {
     "data": {
      "application/vnd.jupyter.widget-view+json": {
       "model_id": "1719f4af95e34343908bfdc196010995",
       "version_major": 2,
       "version_minor": 0
      },
      "text/plain": [
       "VBox(children=(Dropdown(description='Random walk type', index=1, options=('Continuous', 'Discrete'), value='Di…"
      ]
     },
     "metadata": {},
     "output_type": "display_data"
    },
    {
     "data": {
      "application/vnd.jupyter.widget-view+json": {
       "model_id": "25318f4a5fbe4105808144b238996fa3",
       "version_major": 2,
       "version_minor": 0
      },
      "text/plain": [
       "IntSlider(value=0, continuous_update=False, description='Frame index', disabled=True, max=10000, step=100)"
      ]
     },
     "metadata": {},
     "output_type": "display_data"
    },
    {
     "data": {
      "application/vnd.jupyter.widget-view+json": {
       "model_id": "4ca785043ca24e8a891cb18c6c182377",
       "version_major": 2,
       "version_minor": 0
      },
      "text/plain": [
       "HBox(children=(Button(description='Run', style=ButtonStyle()), Play(value=0, disabled=True, interval=500, max=…"
      ]
     },
     "metadata": {},
     "output_type": "display_data"
    }
   ],
   "source": [
    "# define layout by gridspec\n",
    "fig = plt.figure(constrained_layout=True, figsize=(7, 6))\n",
    "gs = fig.add_gridspec(4,4)\n",
    "ax1 = fig.add_subplot(gs[0:2,0:2])\n",
    "ax2 = fig.add_subplot(gs[0:2,2:])\n",
    "# # ax3 = fig.add_subplot(gs[-1,0:2])\n",
    "ax3 = fig.add_subplot(gs[2:,2:])\n",
    "\n",
    "\n",
    "trajectory =[] # trajectory of all dots\n",
    "\n",
    "def plot_dots_circle(ax, frame_idx, show_traj):\n",
    "    radius_factor = 2\n",
    "    frame_coords = trajectory[frame_idx]\n",
    "    ax.clear()\n",
    "    ax.set_xlim(box_xrange)\n",
    "    ax.set_ylim(box_yrange)\n",
    "#     ax.set_aspect(1.)\n",
    "\n",
    "    \n",
    "    if show_traj:\n",
    "        # show the path of the first particle up to current frame\n",
    "        ax.plot(frame_coords[:,0], frame_coords[:,1], '.', alpha=0.5, zorder=1)\n",
    "        ax.plot(trajectory[:frame_idx,0,0], trajectory[:frame_idx,0,1],linewidth=1, color='r', zorder=2, label='random path')\n",
    "    else:\n",
    "        ax.plot(frame_coords[:,0], frame_coords[:,1], '.',zorder=1)\n",
    "    std_radius = np.array(frame_coords).std(axis=0).mean()\n",
    "    circle = plt.Circle((0, 0), radius_factor*std_radius, color='k', fill=False, linestyle='dashed',zorder=3, label='mean radius, $r_{std}$')\n",
    "    ax.add_patch(circle)\n",
    "    ax.legend()\n",
    "\n",
    "def plot_histogram(ax, frame_idx, is_continuous=False,):\n",
    "    ax1.clear()\n",
    "    x_coords = trajectory[frame_idx,:,0]\n",
    "    y_coords = trajectory[frame_idx,:,1]\n",
    "    H, x_edges, y_edges = np.histogram2d(x_coords, y_coords, bins=10, range= [[box_xrange[0], box_xrange[1]], [box_yrange[0], box_yrange[1]]], density=False) # compute histogram\n",
    "    H = H.T\n",
    "    if is_continuous:\n",
    "        ax.imshow(H, origin='lower', interpolation='bicubic', extent=[x_edges[0], x_edges[-1], y_edges[0], y_edges[-1]])\n",
    "    else:\n",
    "        ax.imshow(H, origin='lower', interpolation='nearest', extent=[x_edges[0], x_edges[-1], y_edges[0], y_edges[-1]])\n",
    "#         im = mpl.image.NonUniformImage(ax, interpolation='bilinear')\n",
    "#         x_centers = (x_edges[:-1] + x_edges[1:]) / 2\n",
    "#         y_centers = (y_edges[:-1] + y_edges[1:]) / 2\n",
    "#         im.set_data(x_centers, y_centers, H)\n",
    "    ax.set_xlim(x_edges[[0,-1]])\n",
    "    ax.set_ylim(y_edges[[0,-1]])\n",
    "\n",
    "    \n",
    "def plot_distance(ax, frame_idx):\n",
    "    ax.clear()\n",
    "    ax.set_xlim(0,10)\n",
    "    ax.set_ylim(0,100)\n",
    "    ax.set_xlabel(\"distance from centre\")\n",
    "    ax.set_ylabel(\"frequency\")\n",
    "    \n",
    "    frame_coords = trajectory[frame_idx]\n",
    "    radii = np.sqrt((frame_coords**2).sum(axis=1))\n",
    "    hist_data, hist_x = np.histogram(radii, bins=30)\n",
    "    hist_coords = np.concatenate([np.array(list(zip(hist_x[:-1], hist_data))), np.array(list(zip(hist_x[1:], hist_data)))])\n",
    "    hist_coords = hist_coords[hist_coords[:, 0].argsort(), :]\n",
    "    ax.plot(hist_coords[:, 0], hist_coords[:, 1])\n",
    "\n",
    "def run(change):\n",
    "    '''run diffusion and store in trajectory'''\n",
    "    global trajectory\n",
    "    # initial coords\n",
    "    random_step = max_slider.value # max stepsize\n",
    "    coords = (np.random.random((10*N, 2)) - 0.5)*2 * random_step # Between -starting_radius and starting_radius\n",
    "    coords = coords[(coords**2).sum(axis=1) < random_step**2][:N] # taking points in the circle \n",
    "\n",
    "    assert len(coords) == N # check if all points are in the circle ??why??\n",
    "\n",
    "    # run simulation and store trajectory \n",
    "    trajectory = [coords]\n",
    "    num_steps = steps_slider.value\n",
    "    for i in range(num_steps):\n",
    "        random_displacement = (np.random.random((N, 2)) - 0.5) * 2 * random_step\n",
    "        new_positions = trajectory[-1] + random_displacement\n",
    "        # Some points might have gone beyond the box.\n",
    "        # I could either reflect them back as a hard wall, or just use PBC. For simplicity, I use PBC\n",
    "        new_positions[:,0] = (new_positions[:,0] - box_xrange[0]) % (box_xrange[1] - box_xrange[0]) + box_xrange[0]\n",
    "        new_positions[:,1] = (new_positions[:,1] - box_yrange[0]) % (box_yrange[1] - box_yrange[0]) + box_yrange[0]    \n",
    "        trajectory.append(new_positions)\n",
    "    trajectory = np.array(trajectory)\n",
    "    # enable play and frame slider after the simulation run\n",
    "    play.disabled = False\n",
    "    frame_slider.disabled = False\n",
    "\n",
    "def stop(change):\n",
    "    ''' disable play widget and reset frame slider'''\n",
    "    play.disabled = True\n",
    "    frame_slider.value = 0\n",
    "#     map_chkbox.disabled = traj_chkbox.value\n",
    "#     traj_chkbox.disabled = map_chkbox.value\n",
    "    \n",
    "\n",
    "def plot_radii(ax, frame_idx):\n",
    "    times = []\n",
    "    std_radius = []\n",
    "    ax.clear()\n",
    "    # Do std-deviation for both x and y coords, at each timestep (axis=1 means on all points for that step)\n",
    "    # then do mean on second axis, meaning (x_std + y_std)/2 at each timestep\n",
    "    std_radius = np.array(trajectory).std(axis=1).mean(axis=1)\n",
    "\n",
    "    ax.plot(std_radius**2)\n",
    "    ax.plot(frame_idx, std_radius[frame_idx]**2, 'ro', label='current frame')\n",
    "    ax.set_xlabel('time frame')\n",
    "    ax.set_ylabel('$r_{std}^2$')\n",
    "    ax.legend()\n",
    "\n",
    "def plot_frame(change):\n",
    "    ''' plot current frame for all axis'''\n",
    "    frame_idx = frame_slider.value\n",
    "    if map_chkbox.value:\n",
    "        is_continuous = (func_drpdwn.value == 'Continuous')\n",
    "        plot_histogram(ax1, frame_idx=frame_idx, is_continuous=is_continuous)\n",
    "    else:\n",
    "        plot_dots_circle(ax1, frame_idx=frame_idx, show_traj=traj_chkbox.value)\n",
    "    \n",
    "    plot_distance(ax2, frame_idx)\n",
    "    plot_radii(ax3, frame_idx)\n",
    "    \n",
    "# link widgets\n",
    "ipw.jslink((play, 'value'), (frame_slider, 'value'))\n",
    "ipw.jslink((steps_slider, 'value'), (frame_slider,'max'))\n",
    "frame_slider.observe(plot_frame, names='value', type='change')\n",
    "# click run for simmulation and collect trajectory\n",
    "run_btn.on_click(run)\n",
    "\n",
    "# change simulation parameters will disable play and frame slider until finish run\n",
    "n_slider.observe(stop, names='value', type='change')\n",
    "max_slider.observe(stop, names='value', type='change')\n",
    "steps_slider.observe(stop, names='value', type='change')\n",
    "func_drpdwn.observe(stop, names='value', type='change')\n",
    "traj_chkbox.observe(stop, names='value', type='change')\n",
    "map_chkbox.observe(stop,names='vale', type='change')\n",
    "\n",
    "\n",
    "### how to layout plot and widgets together?\n",
    "display(ipw.VBox([func_drpdwn, n_slider, max_slider, steps_slider, traj_chkbox, map_chkbox]))\n",
    "display(frame_slider)\n",
    "display(ipw.HBox([run_btn, play]))\n"
   ]
  },
  {
   "cell_type": "code",
   "execution_count": null,
   "metadata": {},
   "outputs": [],
   "source": []
  },
  {
   "cell_type": "code",
   "execution_count": 44,
   "metadata": {},
   "outputs": [],
   "source": [
    "# from matplotlib import animation\n",
    "\n",
    "# fps = 25\n",
    "# video_length_seconds = 10.\n",
    "# num_video_frames = int(fps*video_length_seconds)\n",
    "\n",
    "# fig_movie = pl.figure(figsize=(10,10))\n",
    "# ax = pl.subplot(1,1,1)\n",
    "# points_plot = pl.plot(trajectory[0][:,0], trajectory[0][:,1], '.')\n",
    "# circle = pl.Circle((0, 0), 0., color='b', fill=False)\n",
    "# ax.add_patch(circle)\n",
    "# pl.xlim(box_xrange)\n",
    "# pl.ylim(box_yrange)\n",
    "# ax.set_aspect(1.)\n",
    "\n",
    "# def update_frame(frame_idx):\n",
    "#     global trajectory, points_plot, num_video_frames, num_steps, circle\n",
    "    \n",
    "#     trajectory_idx = frame_idx * (num_steps // num_video_frames)    \n",
    "#     frame_coords = trajectory[trajectory_idx]\n",
    "#     points_plot[0].set_data(frame_coords.T)\n",
    "\n",
    "#     std_radius = np.array(frame_coords).std(axis=0).mean()\n",
    "#     circle.set_radius(2*std_radius)\n",
    "    \n",
    "#     return points_plot[0], circle\n",
    "\n",
    "# line_ani = animation.FuncAnimation(fig_movie, update_frame, frames=num_video_frames, blit=True)\n",
    "# line_ani.save('diffusion.mp4', fps=fps)"
   ]
  },
  {
   "cell_type": "code",
   "execution_count": null,
   "metadata": {},
   "outputs": [],
   "source": []
  },
  {
   "cell_type": "code",
   "execution_count": 45,
   "metadata": {
    "scrolled": true
   },
   "outputs": [],
   "source": [
    "# run(None)\n",
    "# plt.figure()\n",
    "\n",
    "\n",
    "# for frame_idx in [0, 1000, 2000, 3000, 4000, 5000, 6000, 7000, 8000, 9000, 9999]:\n",
    "#     frame_coords = trajectory[frame_idx]\n",
    "#     radii = np.sqrt((frame_coords**2).sum(axis=1))\n",
    "#     hist_data, hist_x = np.histogram(radii, bins=30)\n",
    "#     hist_coords = np.concatenate([np.array(list(zip(hist_x[:-1], hist_data))), np.array(list(zip(hist_x[1:], hist_data)))])\n",
    "#     hist_coords = hist_coords[hist_coords[:, 0].argsort(), :]\n",
    "#     plt.plot(hist_coords[:, 0], hist_coords[:, 1])\n",
    "# plt.xlim(0, 10)\n",
    "# plt.xlabel(\"distance from centre\")\n",
    "# plt.ylabel(\"frequency\")\n",
    "# plt.show()"
   ]
  },
  {
   "cell_type": "code",
   "execution_count": 46,
   "metadata": {},
   "outputs": [
    {
     "data": {
      "application/vnd.jupyter.widget-view+json": {
       "model_id": "10d34691fb8548b0a28fd21e9138c684",
       "version_major": 2,
       "version_minor": 0
      },
      "text/plain": [
       "Canvas(toolbar=Toolbar(toolitems=[('Home', 'Reset original view', 'home', 'home'), ('Back', 'Back to previous …"
      ]
     },
     "metadata": {},
     "output_type": "display_data"
    },
    {
     "ename": "AxisError",
     "evalue": "axis 1 is out of bounds for array of dimension 1",
     "output_type": "error",
     "traceback": [
      "\u001b[0;31m---------------------------------------------------------------------------\u001b[0m",
      "\u001b[0;31mAxisError\u001b[0m                                 Traceback (most recent call last)",
      "\u001b[0;32m/tmp/ipykernel_2985/2560228257.py\u001b[0m in \u001b[0;36m<module>\u001b[0;34m\u001b[0m\n\u001b[1;32m      7\u001b[0m \u001b[0;31m# Do std-deviation for both x and y coords, at each timestep (axis=1 means on all points for that step)\u001b[0m\u001b[0;34m\u001b[0m\u001b[0;34m\u001b[0m\u001b[0;34m\u001b[0m\u001b[0m\n\u001b[1;32m      8\u001b[0m \u001b[0;31m# then do mean on second axis, meaning (x_std + y_std)/2 at each timestep\u001b[0m\u001b[0;34m\u001b[0m\u001b[0;34m\u001b[0m\u001b[0;34m\u001b[0m\u001b[0m\n\u001b[0;32m----> 9\u001b[0;31m \u001b[0mstd_radius\u001b[0m \u001b[0;34m=\u001b[0m \u001b[0mnp\u001b[0m\u001b[0;34m.\u001b[0m\u001b[0marray\u001b[0m\u001b[0;34m(\u001b[0m\u001b[0mtrajectory\u001b[0m\u001b[0;34m)\u001b[0m\u001b[0;34m.\u001b[0m\u001b[0mstd\u001b[0m\u001b[0;34m(\u001b[0m\u001b[0maxis\u001b[0m\u001b[0;34m=\u001b[0m\u001b[0;36m1\u001b[0m\u001b[0;34m)\u001b[0m\u001b[0;34m.\u001b[0m\u001b[0mmean\u001b[0m\u001b[0;34m(\u001b[0m\u001b[0maxis\u001b[0m\u001b[0;34m=\u001b[0m\u001b[0;36m1\u001b[0m\u001b[0;34m)\u001b[0m\u001b[0;34m\u001b[0m\u001b[0;34m\u001b[0m\u001b[0m\n\u001b[0m\u001b[1;32m     10\u001b[0m \u001b[0;31m# TWICE the radius (to match the video)\u001b[0m\u001b[0;34m\u001b[0m\u001b[0;34m\u001b[0m\u001b[0;34m\u001b[0m\u001b[0m\n\u001b[1;32m     11\u001b[0m \u001b[0mpl\u001b[0m\u001b[0;34m.\u001b[0m\u001b[0mplot\u001b[0m\u001b[0;34m(\u001b[0m\u001b[0;36m2\u001b[0m\u001b[0;34m*\u001b[0m\u001b[0mstd_radius\u001b[0m\u001b[0;34m)\u001b[0m\u001b[0;34m\u001b[0m\u001b[0;34m\u001b[0m\u001b[0m\n",
      "\u001b[0;32m/mnt/d/code/OSSCAR/pyenv/lib/python3.8/site-packages/numpy/core/_methods.py\u001b[0m in \u001b[0;36m_std\u001b[0;34m(a, axis, dtype, out, ddof, keepdims, where)\u001b[0m\n\u001b[1;32m    260\u001b[0m def _std(a, axis=None, dtype=None, out=None, ddof=0, keepdims=False, *,\n\u001b[1;32m    261\u001b[0m          where=True):\n\u001b[0;32m--> 262\u001b[0;31m     ret = _var(a, axis=axis, dtype=dtype, out=out, ddof=ddof,\n\u001b[0m\u001b[1;32m    263\u001b[0m                keepdims=keepdims, where=where)\n\u001b[1;32m    264\u001b[0m \u001b[0;34m\u001b[0m\u001b[0m\n",
      "\u001b[0;32m/mnt/d/code/OSSCAR/pyenv/lib/python3.8/site-packages/numpy/core/_methods.py\u001b[0m in \u001b[0;36m_var\u001b[0;34m(a, axis, dtype, out, ddof, keepdims, where)\u001b[0m\n\u001b[1;32m    197\u001b[0m     \u001b[0marr\u001b[0m \u001b[0;34m=\u001b[0m \u001b[0masanyarray\u001b[0m\u001b[0;34m(\u001b[0m\u001b[0ma\u001b[0m\u001b[0;34m)\u001b[0m\u001b[0;34m\u001b[0m\u001b[0;34m\u001b[0m\u001b[0m\n\u001b[1;32m    198\u001b[0m \u001b[0;34m\u001b[0m\u001b[0m\n\u001b[0;32m--> 199\u001b[0;31m     \u001b[0mrcount\u001b[0m \u001b[0;34m=\u001b[0m \u001b[0m_count_reduce_items\u001b[0m\u001b[0;34m(\u001b[0m\u001b[0marr\u001b[0m\u001b[0;34m,\u001b[0m \u001b[0maxis\u001b[0m\u001b[0;34m,\u001b[0m \u001b[0mkeepdims\u001b[0m\u001b[0;34m=\u001b[0m\u001b[0mkeepdims\u001b[0m\u001b[0;34m,\u001b[0m \u001b[0mwhere\u001b[0m\u001b[0;34m=\u001b[0m\u001b[0mwhere\u001b[0m\u001b[0;34m)\u001b[0m\u001b[0;34m\u001b[0m\u001b[0;34m\u001b[0m\u001b[0m\n\u001b[0m\u001b[1;32m    200\u001b[0m     \u001b[0;31m# Make this warning show up on top.\u001b[0m\u001b[0;34m\u001b[0m\u001b[0;34m\u001b[0m\u001b[0;34m\u001b[0m\u001b[0m\n\u001b[1;32m    201\u001b[0m     \u001b[0;32mif\u001b[0m \u001b[0mddof\u001b[0m \u001b[0;34m>=\u001b[0m \u001b[0mrcount\u001b[0m \u001b[0;32mif\u001b[0m \u001b[0mwhere\u001b[0m \u001b[0;32mis\u001b[0m \u001b[0;32mTrue\u001b[0m \u001b[0;32melse\u001b[0m \u001b[0mumr_any\u001b[0m\u001b[0;34m(\u001b[0m\u001b[0mddof\u001b[0m \u001b[0;34m>=\u001b[0m \u001b[0mrcount\u001b[0m\u001b[0;34m,\u001b[0m \u001b[0maxis\u001b[0m\u001b[0;34m=\u001b[0m\u001b[0;32mNone\u001b[0m\u001b[0;34m)\u001b[0m\u001b[0;34m:\u001b[0m\u001b[0;34m\u001b[0m\u001b[0;34m\u001b[0m\u001b[0m\n",
      "\u001b[0;32m/mnt/d/code/OSSCAR/pyenv/lib/python3.8/site-packages/numpy/core/_methods.py\u001b[0m in \u001b[0;36m_count_reduce_items\u001b[0;34m(arr, axis, keepdims, where)\u001b[0m\n\u001b[1;32m     74\u001b[0m         \u001b[0mitems\u001b[0m \u001b[0;34m=\u001b[0m \u001b[0mnt\u001b[0m\u001b[0;34m.\u001b[0m\u001b[0mintp\u001b[0m\u001b[0;34m(\u001b[0m\u001b[0;36m1\u001b[0m\u001b[0;34m)\u001b[0m\u001b[0;34m\u001b[0m\u001b[0;34m\u001b[0m\u001b[0m\n\u001b[1;32m     75\u001b[0m         \u001b[0;32mfor\u001b[0m \u001b[0max\u001b[0m \u001b[0;32min\u001b[0m \u001b[0maxis\u001b[0m\u001b[0;34m:\u001b[0m\u001b[0;34m\u001b[0m\u001b[0;34m\u001b[0m\u001b[0m\n\u001b[0;32m---> 76\u001b[0;31m             \u001b[0mitems\u001b[0m \u001b[0;34m*=\u001b[0m \u001b[0marr\u001b[0m\u001b[0;34m.\u001b[0m\u001b[0mshape\u001b[0m\u001b[0;34m[\u001b[0m\u001b[0mmu\u001b[0m\u001b[0;34m.\u001b[0m\u001b[0mnormalize_axis_index\u001b[0m\u001b[0;34m(\u001b[0m\u001b[0max\u001b[0m\u001b[0;34m,\u001b[0m \u001b[0marr\u001b[0m\u001b[0;34m.\u001b[0m\u001b[0mndim\u001b[0m\u001b[0;34m)\u001b[0m\u001b[0;34m]\u001b[0m\u001b[0;34m\u001b[0m\u001b[0;34m\u001b[0m\u001b[0m\n\u001b[0m\u001b[1;32m     77\u001b[0m     \u001b[0;32melse\u001b[0m\u001b[0;34m:\u001b[0m\u001b[0;34m\u001b[0m\u001b[0;34m\u001b[0m\u001b[0m\n\u001b[1;32m     78\u001b[0m         \u001b[0;31m# TODO: Optimize case when `where` is broadcast along a non-reduction\u001b[0m\u001b[0;34m\u001b[0m\u001b[0;34m\u001b[0m\u001b[0;34m\u001b[0m\u001b[0m\n",
      "\u001b[0;31mAxisError\u001b[0m: axis 1 is out of bounds for array of dimension 1"
     ]
    }
   ],
   "source": [
    "import pylab as pl\n",
    "times = []\n",
    "std_radius = []\n",
    "\n",
    "pl.figure(figsize=(10,7))\n",
    "\n",
    "# Do std-deviation for both x and y coords, at each timestep (axis=1 means on all points for that step)\n",
    "# then do mean on second axis, meaning (x_std + y_std)/2 at each timestep\n",
    "std_radius = np.array(trajectory).std(axis=1).mean(axis=1)\n",
    "# TWICE the radius (to match the video)\n",
    "pl.plot(2*std_radius)\n",
    "\n",
    "## SLOWER VERSION\n",
    "#for frame_idx, frame_coords in enumerate(tqdm.tqdm(trajectory)):\n",
    "#    x_std = frame_coords[:, 0].std()\n",
    "#    y_std = frame_coords[:, 1].std()\n",
    "#    std = (x_std + y_std)/2.\n",
    "#    times.append(frame_idx)\n",
    "#    std_radius.append(std)\n",
    "#pl.plot(times, std_radius)\n",
    "\n",
    "pl.xlabel('time')\n",
    "pl.ylabel('average radius')\n",
    "pl.show()"
   ]
  },
  {
   "cell_type": "code",
   "execution_count": null,
   "metadata": {},
   "outputs": [],
   "source": [
    "# test_play = ipw.Play(value=0, min=0, max=10, step=1, disabled=True)\n",
    "# test_slider = ipw.IntSlider(value=0, min=0, max=10, step=1, disabled=True)\n",
    "# ipw.jslink((test_play, 'value'), (test_slider, 'value'))\n",
    "# test_chkbox = ipw.Checkbox(value=False, description='enable play')\n",
    "# display(ipw.VBox([test_play, test_slider,test_chkbox]))\n",
    "# def enable(change):\n",
    "#     if test_chkbox.value:\n",
    "#         test_play.disabled=False\n",
    "#         test_slider.disabled=False\n",
    "#     else:\n",
    "#         test_play.disabled=True\n",
    "#         test_slider.value=0\n",
    "#         test_slider.disabled=True\n",
    "\n",
    "# plot_f(None)\n",
    "# test_chkbox.observe(enable, names='value', type='change')"
   ]
  },
  {
   "cell_type": "code",
   "execution_count": null,
   "metadata": {},
   "outputs": [],
   "source": [
    "def plot_radii(ax, frame_idx):\n",
    "    times = []\n",
    "    std_radius = []\n",
    "    ax.clear()\n",
    "    # Do std-deviation for both x and y coords, at each timestep (axis=1 means on all points for that step)\n",
    "    # then do mean on second axis, meaning (x_std + y_std)/2 at each timestep\n",
    "    std_radius = np.array(trajectory).std(axis=1).mean(axis=1)\n",
    "\n",
    "    ax.plot(std_radius)\n",
    "    ax.plot(frame_idx, std_radius[frame_idx], 'ro', label='current frame')\n",
    "    ax.set_xlabel('time frame')\n",
    "    ax.set_ylabel('$r_{\\text{std}}^2$')\n",
    "    ax.legend()\n",
    "\n",
    "fig, ax = plt.subplots()\n",
    "\n",
    "run(None)\n",
    "plot_radii(ax, 3)"
   ]
  }
 ],
 "metadata": {
  "interpreter": {
   "hash": "bc40149a43d56842f1cb494dbc97517747f273b17f908d7811c2c9450f58811a"
  },
  "kernelspec": {
   "display_name": "Python 3 (ipykernel)",
   "language": "python",
   "name": "python3"
  },
  "language_info": {
   "codemirror_mode": {
    "name": "ipython",
    "version": 3
   },
   "file_extension": ".py",
   "mimetype": "text/x-python",
   "name": "python",
   "nbconvert_exporter": "python",
   "pygments_lexer": "ipython3",
   "version": "3.8.10"
  }
 },
 "nbformat": 4,
 "nbformat_minor": 4
}
