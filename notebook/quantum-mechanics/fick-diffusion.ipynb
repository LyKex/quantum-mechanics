{
 "cells": [
  {
   "cell_type": "code",
   "execution_count": 2,
   "metadata": {},
   "outputs": [],
   "source": [
    "import numpy as np\n",
    "import pylab as pl\n",
    "import matplotlib\n",
    "import ipywidgets as ipw"
   ]
  },
  {
   "cell_type": "code",
   "execution_count": 3,
   "metadata": {},
   "outputs": [],
   "source": [
    "def c(x, t):\n",
    "    N = 1. # Normalisation (number of particles for instance)\n",
    "    D = 2. # 2D\n",
    "    return N / np.sqrt(2 * np.pi * (2 * D * t)) * np.exp(-x**2 / 2 / (2 * D * t))"
   ]
  },
  {
   "cell_type": "code",
   "execution_count": null,
   "metadata": {},
   "outputs": [],
   "source": []
  },
  {
   "cell_type": "code",
   "execution_count": 16,
   "metadata": {},
   "outputs": [
    {
     "data": {
      "application/vnd.jupyter.widget-view+json": {
       "model_id": "ff121eba3ed644adb4fd26e6a5fd907a",
       "version_major": 2,
       "version_minor": 0
      },
      "text/plain": [
       "interactive(children=(IntSlider(value=0, continuous_update=False, description='Frame', max=99), Output()), _do…"
      ]
     },
     "metadata": {},
     "output_type": "display_data"
    }
   ],
   "source": [
    "x = np.linspace(-10, 10, 1000)\n",
    "times = np.linspace(0.1, 30, 100)\n",
    "\n",
    "c_traj = [c(x,ti) for ti in times]\n",
    "\n",
    "\n",
    "@ipw.interact(\n",
    "    frame=ipw.IntSlider(description='Frame', min=0, max=len(times)-1, value=0, continuous_update=False)\n",
    ")\n",
    "def plot(frame):\n",
    "    global ax\n",
    "    frame_c = c_traj[frame]\n",
    "    fig = pl.figure()\n",
    "    ax = pl.subplot(1,1,1)\n",
    "    pl.xlim(-10, 10)\n",
    "    pl.ylim(0, 0.7)\n",
    "    ax.plot(x, frame_c)\n",
    "    pl.show()\n"
   ]
  },
  {
   "cell_type": "code",
   "execution_count": null,
   "metadata": {},
   "outputs": [],
   "source": []
  }
 ],
 "metadata": {
  "interpreter": {
   "hash": "916dbcbb3f70747c44a77c7bcd40155683ae19c65e1c03b4aa3499c5328201f1"
  },
  "kernelspec": {
   "display_name": "Python 3 (ipykernel)",
   "language": "python",
   "name": "python3"
  },
  "language_info": {
   "codemirror_mode": {
    "name": "ipython",
    "version": 3
   },
   "file_extension": ".py",
   "mimetype": "text/x-python",
   "name": "python",
   "nbconvert_exporter": "python",
   "pygments_lexer": "ipython3",
   "version": "3.8.10"
  }
 },
 "nbformat": 4,
 "nbformat_minor": 4
}
