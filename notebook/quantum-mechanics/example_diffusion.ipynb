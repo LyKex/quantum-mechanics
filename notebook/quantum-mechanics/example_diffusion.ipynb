{
 "cells": [
  {
   "cell_type": "code",
   "execution_count": 3,
   "id": "40b3dbd1-38f4-4b85-aa1b-2cc18531037d",
   "metadata": {},
   "outputs": [
    {
     "data": {
      "application/vnd.jupyter.widget-view+json": {
       "model_id": "6752f9df060d453c86e936dabd3be3bd",
       "version_major": 2,
       "version_minor": 0
      },
      "text/plain": [
       "Canvas(toolbar=Toolbar(toolitems=[('Home', 'Reset original view', 'home', 'home'), ('Back', 'Back to previous …"
      ]
     },
     "metadata": {},
     "output_type": "display_data"
    }
   ],
   "source": [
    "%matplotlib widget\n",
    "\n",
    "import matplotlib.cm as cm\n",
    "import matplotlib.pyplot as plt\n",
    "from matplotlib.patches import Circle, PathPatch\n",
    "from matplotlib.path import Path\n",
    "from matplotlib.transforms import Affine2D\n",
    "import numpy as np\n",
    "\n",
    "# Fixing random state for reproducibility\n",
    "np.random.seed(19680801)\n",
    "\n",
    "\n",
    "r = np.random.rand(50)\n",
    "t = np.random.rand(50) * np.pi * 2.0\n",
    "x = r * np.cos(t)\n",
    "y = r * np.sin(t)\n",
    "\n",
    "fig, ax = plt.subplots(figsize=(6, 6))\n",
    "circle = Circle((0, 0), 1, facecolor='none',\n",
    "                edgecolor='red', linewidth=3, alpha=0.5)\n",
    "ax.add_patch(circle)\n",
    "\n",
    "im = ax.imshow(np.random.random((100, 100)),\n",
    "                origin='lower', cmap=cm.winter,\n",
    "                interpolation='spline36',\n",
    "                extent=([-1, 1, -1, 1]))\n",
    "im.set_clip_path(circle)\n",
    "\n",
    "line, = ax.plot(x, y, 'o', color=(0.9, 0.9, 1.0), alpha=0.8)"
   ]
  },
  {
   "cell_type": "code",
   "execution_count": 5,
   "id": "45320f0f-eb91-4f60-828f-82e26516a586",
   "metadata": {},
   "outputs": [],
   "source": [
    "#Update the data for the line\n",
    "\n",
    "line.set_data([0], [0])"
   ]
  },
  {
   "cell_type": "code",
   "execution_count": 64,
   "id": "c8f981b1-4424-4a23-be18-34affe556f79",
   "metadata": {},
   "outputs": [
    {
     "data": {
      "application/vnd.jupyter.widget-view+json": {
       "model_id": "82e2fc47fa04493bb74baa079578c537",
       "version_major": 2,
       "version_minor": 0
      },
      "text/plain": [
       "Canvas(toolbar=Toolbar(toolitems=[('Home', 'Reset original view', 'home', 'home'), ('Back', 'Back to previous …"
      ]
     },
     "metadata": {},
     "output_type": "display_data"
    },
    {
     "data": {
      "text/plain": [
       "(30, 30)"
      ]
     },
     "execution_count": 64,
     "metadata": {},
     "output_type": "execute_result"
    }
   ],
   "source": [
    "fig, ax = plt.subplots(1,1)\n",
    "H = np.random.normal(0,10,(30,30))\n",
    "map_obj = ax.imshow(H, origin='lower', interpolation='none', extent=[-10, 10, -10, 10],aspect='equal', alpha=0.5, cmap='Oranges')\n",
    "# map_obj.set_cmap('gray')\n",
    "H.shape"
   ]
  },
  {
   "cell_type": "code",
   "execution_count": 65,
   "metadata": {},
   "outputs": [],
   "source": [
    "H = np.random.normal(0,1,(30,30))\n",
    "map_obj.set_cmap('winter')\n",
    "map_obj.set_data(H)"
   ]
  },
  {
   "cell_type": "code",
   "execution_count": 56,
   "metadata": {},
   "outputs": [
    {
     "name": "stderr",
     "output_type": "stream",
     "text": [
      "/tmp/ipykernel_2046/2274758629.py:2: RuntimeWarning: More than 20 figures have been opened. Figures created through the pyplot interface (`matplotlib.pyplot.figure`) are retained until explicitly closed and may consume too much memory. (To control this warning, see the rcParam `figure.max_open_warning`).\n",
      "  fig, ax = plt.subplots(1,1)\n"
     ]
    },
    {
     "data": {
      "application/vnd.jupyter.widget-view+json": {
       "model_id": "77860984600948369c52a3da99563d07",
       "version_major": 2,
       "version_minor": 0
      },
      "text/plain": [
       "Canvas(toolbar=Toolbar(toolitems=[('Home', 'Reset original view', 'home', 'home'), ('Back', 'Back to previous …"
      ]
     },
     "metadata": {},
     "output_type": "display_data"
    },
    {
     "data": {
      "text/plain": [
       "<BarContainer object of 30 artists>"
      ]
     },
     "execution_count": 56,
     "metadata": {},
     "output_type": "execute_result"
    }
   ],
   "source": [
    "H = np.histogram(x_coords, bins=30,density=True)\n",
    "fig, ax = plt.subplots(1,1)\n",
    "ax.bar(H[1][1:],H[0])"
   ]
  },
  {
   "cell_type": "code",
   "execution_count": null,
   "metadata": {},
   "outputs": [],
   "source": []
  }
 ],
 "metadata": {
  "interpreter": {
   "hash": "438831c58ffec695325f6dddf834bd4a30e3012939d3b28b689fe273aedd58b8"
  },
  "kernelspec": {
   "display_name": "Python 3.8.10 64-bit ('pyenv': venv)",
   "name": "python3"
  },
  "language_info": {
   "codemirror_mode": {
    "name": "ipython",
    "version": 3
   },
   "file_extension": ".py",
   "mimetype": "text/x-python",
   "name": "python",
   "nbconvert_exporter": "python",
   "pygments_lexer": "ipython3",
   "version": "3.8.10"
  }
 },
 "nbformat": 4,
 "nbformat_minor": 5
}
