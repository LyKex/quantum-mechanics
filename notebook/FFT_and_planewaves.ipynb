{
 "cells": [
  {
   "cell_type": "markdown",
   "source": [
    "# **Fourier Transform and planewave expansion**\n",
    "\n",
    "<i class=\"fa fa-home fa-2x\"></i><a href=\"./index.ipynb\" style=\"font-size: 20px\"> Go back to index</a>\n",
    "\n",
    "**Source code:** https://github.com/LyKex/quantum-mechanics/blob/master/notebook/FFT_and_planewaves.ipynb (**needs update**)\n",
    "\n",
    "<hr style=\"height:1px;border:none;color:#cccccc;background-color:#cccccc;\" />"
   ],
   "metadata": {}
  },
  {
   "cell_type": "markdown",
   "source": [
    "## **Goals**\n",
    "\n",
    "<p style=\"text-align: justify;font-size:15px\">\n",
    "    Planewave expansion is perhaps the most commonly adopted wavefunction representation when solving Khon-Sham equation. The possiblity to use fast Fourier transform (FFT) to determine the compostion of the planewaves make this strategy numerically efficient. This notebook shows interactively how discrete Fourier series can represent an objective function with limited amout of components.\n",
    "</p>\n",
    "\n",
    "<details close>\n",
    "    <summary style=\"font-size: 20px\"><b>Sub-goals</b></summary>\n",
    "    <ol style=\"text-align: justify;font-size:15px\">\n",
    "        <li> Understand why planewave expansion is perferred for numerical solution of Kohn-Sham equation.</li>\n",
    "        <li> Understand the same nature of Fourier series and planewave basis. </li>\n",
    "        <li> Learn how to decompose a function by FFT algorithm.</li>\n",
    "        <li> Examine the reconstructed results from expansions with different objective functions. </li>\n",
    "    </ol>\n",
    "\n",
    "</details>"
   ],
   "metadata": {}
  },
  {
   "cell_type": "markdown",
   "source": [
    "## **Background theory**\n",
    "\n",
    "<p style=\"text-align: justify;font-size:15px\">\n",
    "    Density function theory (DFT) calculation is largely based on solving Kohn-Sham equation self-consistently. The solution or the wavefunction of the system can be presented in multiple ways. Although using real space vector or atomic orbital as basis set may be more intuitive or physical, planewave expansion is actually a more efficient alternative thanks to FFT. This strategy is adopted in many popular DFT packages including Quantum ESPRESSO and VASP.\n",
    "</p>"
   ],
   "metadata": {}
  },
  {
   "cell_type": "markdown",
   "source": [
    "<details close>\n",
    "<summary style=\"font-size: 20px\">Khon-Sham equation</summary>\n",
    "<p style=\"text-align: justify;font-size:15px\">\n",
    "    The Kohn-Sham equation is\n",
    "</p>\n",
    "\n",
    "$-\\frac{1}{2} \\nabla^{2} \\phi_{i}(\\mathbf{r})+V_{\\text {tot }}(\\mathbf{r}) \\phi_{i}(\\mathbf{r})=\\varepsilon_{i} \\phi_{i}(\\mathbf{r})$ (1)\n",
    "  \n",
    "<p style=\"text-align: justify;font-size:15px\">\n",
    "    where $V_{\\text {tot}}$ is the total potential which is the sum of nuclear potential, $V_n$, electron Hatree potential, $V_H$ and exchange correlation potential, $V_{xc}$. The latter two are both determined by electron desnity, for example, the Poisson's equation gives the $V_H$ by\n",
    "</p>\n",
    "\n",
    "$\\nabla^{2} V_H(\\mathbf{r}) = -4 \\pi n(r) $ (2)\n",
    "  \n",
    "<p style=\"text-align: justify;font-size:15px\">\n",
    "     Thus, to obtain a self-consistent solution in a typical DFT calculation, the trial charge density will be iteratively examined until $V_{\\text {tot}}$ and $\\phi_{i}(\\mathbf{r})$ is converged in equation 1. However, this process can computationally expensive. Assuming setting up an  grid of $N\\times N \\times N$ equally spaced points, the wavefunction would have ~$N^3$ elements while the Hamiltonian contains ~$N^6$. Solving the eigenvalue of equation 1 would be quite difficult if N is large enough to have meaningful result.\n",
    "</p>\n",
    "</details>"
   ],
   "metadata": {}
  },
  {
   "cell_type": "markdown",
   "source": [
    "<details close>\n",
    "<summary style=\"font-size: 20px\">Planewave expansion</summary>\n",
    "<p style=\"text-align: justify;font-size:15px\">\n",
    "    Planewave is named after the fact that it has the wavefront is identical everywhere on the plane perpendicular to the propagation direction. It has the general form as\n",
    "</p>\n",
    "\n",
    "$ P(x) = P_0 e^{iqx}$ (3)\n",
    "\n",
    "<p style=\"text-align: justify;font-size:15px\">\n",
    "    The planewave representation, i.e. to use a planewave basis set to represent the wavefunction of the whole system is \n",
    "</p>\n",
    "\n",
    "$\\phi_i(\\mathbf{r}) = \\sum_{\\mathbf{G}} c_i(\\mathbf G) e^{(i\\mathbf{Gr})}$ (4)\n",
    "\n",
    "<p style=\"text-align: justify;font-size:15px\">\n",
    "    Planewave expansions is desired for multiple reasons. Foremost, it is mathmatically a Fourier series which means FFT can be used to efficiently find the wave coefficients $c_n$. So the multiplication of $V_tot$ and $\\phi_i$ can be done in real space and convert to reciprocal space by FFT. Second, under periodic boundary conditions, it naturally appers afer Bloch theorem.\n",
    "</p>\n",
    "    \n",
    "<p style=\"text-align: justify;font-size:15px\">\n",
    "    It is important to point out that planewave expansion can only be effcient if we can reduce the number of elements in the Hamiltonian and $\\phi_i$ since the eigenfuction still needs to be solved.\n",
    "</p>\n",
    "</details>"
   ],
   "metadata": {}
  },
  {
   "cell_type": "markdown",
   "source": [
    "<details close>\n",
    "<summary style=\"font-size: 20px\">Fourier series and Fast fourier transform</summary>\n",
    "<p style=\"text-align: justify;font-size:15px\">\n",
    "    Discrete Fourier transform of a function g(t) is defined as\n",
    "</p>\n",
    "\n",
    "$ X_k= \\sum_{n=0}^{N-1} x_n e^{-i2\\pi kn/N} \\quad k=0,1,...,N-1$ (5)\n",
    "  \n",
    "<p style=\"text-align: justify;font-size:15px\">\n",
    "   where $x_i$ is complex coeffcients and $X_k$ is sampling point of the objective functions.\n",
    "</p>\n",
    "<p style=\"text-align: justify;font-size:15px\">\n",
    "   Fast Fourier transform is the algorithm to find $x_k$ with only $O(N\\lg N)$ time and the most common one is Cooley-Tukey method [<a href=\"https://www.ams.org/journals/mcom/1965-19-090/S0025-5718-1965-0178586-1/home.html\">Math. Comp. 19, 297–301 (1965)</a>]. \n",
    "</p>\n",
    "</details>"
   ],
   "metadata": {}
  },
  {
   "cell_type": "markdown",
   "source": [
    "## **Tasks and exercises**\n",
    "\n",
    "<ol style=\"text-align: justify;font-size:15px\">\n",
    "    <li> How the number of sampling is affecting the Fourier transform? Will a less continuous function requires more components to represent?\n",
    "    <details style=\"color: blue\">\n",
    "    <summary>Hints</summary>\n",
    "        Move the slide bar to use different number of Fourier components. Observe if the reconstructed plot fits the original function and if the integral of the square modulus is close to the convergence value. You can also change the objective function by the dropdown menu. \n",
    "    </details>\n",
    "    </li>\n",
    "    <li> In real DFT calculation, how can we control the number of planewaves or the FFT components in the basis set?\n",
    "    <details style=\"color: blue\">\n",
    "    <summary>Hints</summary>\n",
    "        G vector in reciprocal space is square porpotional to the kinetic energy of electrons. By setting a cutoff energy, we can limit the size of planewave basis.\n",
    "    </details>\n",
    "    </li>\n",
    "    <li>How can we reduce the number of planewaves without sacrificing the accuracy of the representation?\n",
    "    <details style=\"color: blue\">\n",
    "    <summary>Hints</summary>\n",
    "        Wavefunctions has the strongest oscillation near nucleus, and large number of planewaves are needed for rough functions. Yet, core electrons are less important for bonding so <a href=\"./pseudopotentials.ipynb\" style=\"font-size: 15px\"> pseudopotentials</a> is constructed to exclude the core electrons leading to a much smoother wavefunction.\n",
    "    </details>\n",
    "    </li>\n",
    "</ol>\n",
    "\n",
    "<hr style=\"height:1px;border:none;color:#cccccc;background-color:#cccccc;\" />"
   ],
   "metadata": {}
  },
  {
   "cell_type": "code",
   "execution_count": 1,
   "source": [
    "import ipywidgets as ipw\n",
    "import numpy as np\n",
    "from matplotlib.ticker import MaxNLocator\n",
    "import matplotlib.pyplot as plt\n",
    "import scipy.fft as fft\n",
    "%matplotlib widget\n",
    "plt.rcParams['figure.autolayout'] = 'True' # turn on tight layout globally"
   ],
   "outputs": [],
   "metadata": {}
  },
  {
   "cell_type": "code",
   "execution_count": 2,
   "source": [
    "# objective functions\n",
    "def periodic_f(x):\n",
    "    # smooth\n",
    "    return np.exp(-((x-1)/0.15)**2) + 0.5 * np.exp(-((x-1.2)/0.1)**2) + 0.8 * np.exp(-((x-0.8)/0.1)**2)\n",
    "\n",
    "def periodic_f2(x):\n",
    "    # less smooth\n",
    "    return np.exp(-((x-1)/0.05)**2) -0.5*np.exp(-((x-1)/0.15)**2) + 0.5 * np.exp(-((x-1.2)/0.1)**2) + 0.8 * np.exp(-((x-0.8)/0.1)**2)"
   ],
   "outputs": [],
   "metadata": {}
  },
  {
   "cell_type": "code",
   "execution_count": 3,
   "source": [
    "# plot x range\n",
    "x = np.linspace(0, 2, 201, endpoint=False)\n",
    "x_range = 2\n",
    "\n",
    "# number of fft samples\n",
    "N_slider = ipw.IntSlider(description=r\"$N_{\\text{fft}}$\", min=6, max=40, value=6, step=1, continuous_update=False)\n",
    "# objective functions\n",
    "func_dropdown=ipw.Dropdown(description=\"Function\", options=[(\"Smooth\", \"periodic_f\"), (\"Less smooth\", \"periodic_f2\")])"
   ],
   "outputs": [],
   "metadata": {}
  },
  {
   "cell_type": "code",
   "execution_count": 4,
   "source": [
    "def compute_resampled(N_fft, x_range=2., function=periodic_f):\n",
    "    \"\"\" Compute FFT series with given number of sampling and objective functions. \"\"\"\n",
    "    # Pick an even number to have zero\n",
    "    x_fft = np.linspace(0, x_range, N_fft+1, endpoint=False)# remove last point as it's the same as the first one by PBC\n",
    "    y_fft = function(x_fft)\n",
    "    # Fourier resampling\n",
    "    renormalization = len(x)/(len(y_fft))\n",
    "    y_resamp = fft.irfft(fft.rfft(y_fft), len(x)) * renormalization\n",
    "    \n",
    "    return x_fft, y_fft, y_resamp\n",
    "\n",
    "def get_integral_resampled(N_fft, x_range=2., function=periodic_f):\n",
    "    \"\"\" Compute the integral of the square modulus of the function. \"\"\" \n",
    "    x_fft, y_fft, _ = compute_resampled(N_fft, x_range, function=function)\n",
    "    return (y_fft**2).sum() * (x_fft[1] - x_fft[0])\n",
    "\n",
    "def plot_reconstruct(y_fft):\n",
    "    \"\"\" Plot reconstruct function from frequencies \"\"\"\n",
    "    ax2.clear()\n",
    "\n",
    "    coeffs = fft.rfft(y_fft)\n",
    "    N_rfft = 0 # number of fft expansions\n",
    "    for coeff, freq_int in list(zip(coeffs, range(len(coeffs)))):\n",
    "        freq = 2 * np.pi * freq_int / x_range\n",
    "        norm = 1 / (len(y_fft)) * 2\n",
    "        if freq_int == 0:\n",
    "            # The zero-frequency does not have a factor 2 because it's not a cosine\n",
    "            # summing the two complex conjugates, but just a constant\n",
    "            norm /= 2\n",
    "        this_frequency_contrib = ( coeff.real * np.cos(freq * x) - coeff.imag * np.sin(freq * x) ) * norm\n",
    "\n",
    "        ax2.plot(x, this_frequency_contrib + N_rfft) # plot components with vertical shift for visibility\n",
    "        N_rfft += 1\n",
    "\n",
    "    ax2.axes.yaxis.set_ticks([]) # remove y ticks\n",
    "    ax2.set_title('Expansion Components')\n",
    "\n",
    "CONVERGE_SMOOTH = get_integral_resampled(N_fft=200, function=periodic_f)\n",
    "CONVERGE_ROUGH = get_integral_resampled(N_fft=200, function=periodic_f2)\n",
    "def plot_integral(func_name, func, N_fft):\n",
    "    \"\"\" plot sum of the square modulus (integral) \"\"\"\n",
    "    ax3.clear()\n",
    "    integrals = []\n",
    "    for N in range(6, 41):\n",
    "        integrals.append((N, get_integral_resampled(N, function=func)))\n",
    "    \n",
    "    converged_integral = CONVERGE_SMOOTH if func_name == \"periodic_f\" else CONVERGE_ROUGH\n",
    "    integrals_x, integrals_y = np.array(integrals).T\n",
    "    ax3.plot(integrals_x, integrals_y, 'o--')\n",
    "    ax3.axhline(converged_integral, color='tab:blue')\n",
    "    ax3.plot(integrals_x[N_fft-6], integrals_y[N_fft-6],'ro', markersize=11, label='current sampling')\n",
    "    ax3.set_xlabel('number of components$')\n",
    "    ax3.set_ylabel(\"Integral of square modulus\")\n",
    "    ax3.set_title(\"Convergence of FFT\")\n",
    "    ax3.set_xlim(6,40)\n",
    "    ax3.xaxis.set_major_locator(MaxNLocator(integer=True))\n",
    "    ax3.legend(loc='best')\n",
    "\n",
    "def plot_update(change):\n",
    "    # get current widget value\n",
    "    func = globals()[func_dropdown.value]\n",
    "    N_fft = N_slider.value\n",
    "\n",
    "    # update sampling plot\n",
    "    x_fft, y_fft, y_resamp = compute_resampled(N_fft, function=func)\n",
    "    func_line.set_data(x, func(x))\n",
    "    sample_point.set_data(x_fft, y_fft)\n",
    "    fft_line.set_data(x, y_resamp)\n",
    "\n",
    "    # update reconstruct plot\n",
    "    plot_reconstruct(y_fft)\n",
    "\n",
    "    # udpate square modulus plot\n",
    "    plot_integral(func_dropdown.value, func, N_fft)\n",
    "\n",
    "\n",
    "N_slider.observe(plot_update, names='value', type='change')\n",
    "func_dropdown.observe(plot_update, names='value', type='change')"
   ],
   "outputs": [],
   "metadata": {}
  },
  {
   "cell_type": "code",
   "execution_count": 5,
   "source": [
    "# define layout by gridspec\n",
    "fig = plt.figure(constrained_layout=True, figsize=(10, 7.5))\n",
    "gs = fig.add_gridspec(3,4)\n",
    "ax1 = fig.add_subplot(gs[0:2,0:2])\n",
    "ax2 = fig.add_subplot(gs[0:2,2:4])\n",
    "ax3 = fig.add_subplot(gs[-1,:])\n",
    "\n",
    "# plot 1\n",
    "func = globals()[func_dropdown.value]\n",
    "x_fft, y_fft, y_resamp = compute_resampled(N_slider.value, function=func)\n",
    "func_line, = ax1.plot(x, func(x), 'k-', label='actual curve')\n",
    "sample_point, = ax1.plot(x_fft, y_fft, 'o', label='sampling points')\n",
    "fft_line, = ax1.plot(x, y_resamp, 'r--', label='FFT interpolation')\n",
    "ax1.legend(loc='best')\n",
    "ax1.set_title('FFT sampling')\n",
    "ax1.set_ylim(-0.3,1.25)\n",
    "\n",
    "# show plots\n",
    "plot_update(None)\n",
    "plt.show()\n",
    "\n",
    "# display widgets\n",
    "box_layout = ipw.Layout(display='flex', align_items='stretch',width='80%', flex_flow='row')\n",
    "box = ipw.Box(children=[N_slider, func_dropdown], layout=box_layout)\n",
    "display(box)"
   ],
   "outputs": [
    {
     "output_type": "display_data",
     "data": {
      "text/plain": [
       "Canvas(toolbar=Toolbar(toolitems=[('Home', 'Reset original view', 'home', 'home'), ('Back', 'Back to previous …"
      ],
      "application/vnd.jupyter.widget-view+json": {
       "version_major": 2,
       "version_minor": 0,
       "model_id": "447e0eb9e0a148f0b396760992646109"
      }
     },
     "metadata": {}
    },
    {
     "output_type": "display_data",
     "data": {
      "text/plain": [
       "Box(children=(IntSlider(value=6, continuous_update=False, description='$N_{\\\\text{fft}}$', max=40, min=6), Dro…"
      ],
      "application/vnd.jupyter.widget-view+json": {
       "version_major": 2,
       "version_minor": 0,
       "model_id": "ae4d67f28432487bbfa1ce30a52c3358"
      }
     },
     "metadata": {}
    }
   ],
   "metadata": {}
  },
  {
   "cell_type": "markdown",
   "source": [
    "<details>\n",
    "    <summary style=\"font-size: 22px;\"><b>Legend</b></summary>\n",
    "\n",
    "<p style=\"text-align: justify;font-size:15px\">\n",
    "    The number of FFT components, $N_{\\text{fft}}$ is set by the slider. Two objective functions can be chosen from the dropdown menu. The objective function, sampling points and the reconstructed function are shown in plot 1 on the top left. The real part (coisine functions) and the constant term of the Fourier series is shown in plot 2 on the top right. Note that the components are shifted vertically for better visibility. The norm integral of the Fourier series with different $N_{\\text{fft}}$ is shown in plot at bottom where the current choice of sampling is labeled. The convergence value is obtained with 200 FFT components. \n",
    "   \n",
    "</p>\n",
    "</details>"
   ],
   "metadata": {}
  },
  {
   "cell_type": "code",
   "execution_count": null,
   "source": [],
   "outputs": [],
   "metadata": {}
  }
 ],
 "metadata": {
  "interpreter": {
   "hash": "25dfdc17468cbd6567831e63e4a52a24e09010ff54215efa01b4e7aa765a5908"
  },
  "kernelspec": {
   "name": "python3",
   "display_name": "Python 3.8.5 64-bit ('pyenv': venv)"
  },
  "language_info": {
   "name": "python",
   "version": "3.8.10",
   "mimetype": "text/x-python",
   "codemirror_mode": {
    "name": "ipython",
    "version": 3
   },
   "pygments_lexer": "ipython3",
   "nbconvert_exporter": "python",
   "file_extension": ".py"
  }
 },
 "nbformat": 4,
 "nbformat_minor": 5
}